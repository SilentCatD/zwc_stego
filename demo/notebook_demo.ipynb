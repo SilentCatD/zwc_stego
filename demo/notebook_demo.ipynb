{
  "cells": [
    {
      "attachments": {},
      "cell_type": "markdown",
      "metadata": {},
      "source": [
        "# Import thư viện"
      ]
    },
    {
      "cell_type": "code",
      "execution_count": 1,
      "metadata": {
        "id": "bsqPq8ni1FT6"
      },
      "outputs": [],
      "source": [
        "import random"
      ]
    },
    {
      "attachments": {},
      "cell_type": "markdown",
      "metadata": {},
      "source": [
        "# Message và cover"
      ]
    },
    {
      "cell_type": "code",
      "execution_count": 2,
      "metadata": {
        "id": "qeIZOrOlfxEZ"
      },
      "outputs": [],
      "source": [
        "with open('msg.txt', 'r', encoding='utf8') as f:\n",
        "  msg = f.read()"
      ]
    },
    {
      "cell_type": "code",
      "execution_count": 3,
      "metadata": {
        "colab": {
          "base_uri": "https://localhost:8080/"
        },
        "id": "9cjFftmAiPNs",
        "outputId": "915eb4ea-e4e0-47ff-9f8c-d600d11b9d57"
      },
      "outputs": [
        {
          "name": "stdout",
          "output_type": "stream",
          "text": [
            "Sed ut perspiciatis unde omnis iste natus error sit voluptatem accusantium doloremque laudantium, totam rem aperiam, eaque ipsa quae ab illo inventore veritatis et quasi architecto beatae vitae dicta sunt explicabo. Nemo enim ipsam voluptatem quia voluptas sit aspernatur aut odit aut fugit, sed quia consequuntur magni dolores eos qui ratione voluptatem sequi nesciunt. Neque porro quisquam est, qui dolorem ipsum quia dolor sit amet, consectetur, adipisci velit, sed quia non numquam eius modi tempora incidunt ut labore et dolore magnam aliquam quaerat voluptatem. Ut enim ad minima veniam, quis nostrum exercitationem ullam corporis suscipit laboriosam, nisi ut aliquid ex ea commodi consequatur? Quis autem vel eum iure reprehenderit qui in ea voluptate velit esse quam nihil molestiae consequatur, vel illum qui dolorem eum fugiat quo voluptas nulla pariatur?\n"
          ]
        }
      ],
      "source": [
        "print(msg)"
      ]
    },
    {
      "cell_type": "code",
      "execution_count": 4,
      "metadata": {
        "id": "wDq9ut8UiUgx"
      },
      "outputs": [],
      "source": [
        "with open('cover.txt', 'r', encoding='utf-8') as f:\n",
        "    cover = f.read()"
      ]
    },
    {
      "cell_type": "code",
      "execution_count": 5,
      "metadata": {
        "colab": {
          "base_uri": "https://localhost:8080/"
        },
        "id": "pSIqg3fbibNx",
        "outputId": "fd0d7943-a4a9-4036-bda3-bed900459639"
      },
      "outputs": [
        {
          "name": "stdout",
          "output_type": "stream",
          "text": [
            "xin chao cac ban\n",
            "\n"
          ]
        }
      ],
      "source": [
        "print(cover)"
      ]
    },
    {
      "attachments": {},
      "cell_type": "markdown",
      "metadata": {},
      "source": [
        "# Map table"
      ]
    },
    {
      "cell_type": "code",
      "execution_count": 6,
      "metadata": {},
      "outputs": [],
      "source": [
        "invisible = {\n",
        "    \"\\u200B\",\n",
        "    \"\\u200E\",\n",
        "    \"\\u202C\",\n",
        "    \"\\u202A\",\n",
        "    \"\\u202B\",\n",
        "    \"\\u202C\",\n",
        "    \"\\u202D\",\n",
        "}\n",
        "\n",
        "bits_to_zwc = {\n",
        "    \"0001\": \"\\u200B\\u202A\",\n",
        "    \"0010\": \"\\u202A\\u200B\",\n",
        "    \"0011\": \"\\u202C\\u202A\",\n",
        "    \"0100\": \"\\u202A\\u202C\",\n",
        "    \"0101\": \"\\u202C\\u202D\",\n",
        "    \"0110\": \"\\u200B\\u202C\",\n",
        "    \"0111\": \"\\u202C\\u200B\",\n",
        "    \"1000\": \"\\u202A\\u202B\",\n",
        "    \"1001\": \"\\u202B\\u202A\",\n",
        "    \"1010\": \"\\u200E\\u202D\",\n",
        "    \"1011\": \"\\u202D\\u200E\",\n",
        "    \"1100\": \"\\u200E\\u202C\",\n",
        "    \"1101\": \"\\u202C\\u200E\",\n",
        "    \"1110\": \"\\u202D\\u202C\",\n",
        "    \"1111\": \"\\u202D\\u200B\",\n",
        "    \"0000\": \"\\u200B\\u202D\"\n",
        "}\n",
        "\n",
        "zwc_to_bits = {bits_to_zwc[x]: x for x in bits_to_zwc.keys()}"
      ]
    },
    {
      "attachments": {},
      "cell_type": "markdown",
      "metadata": {},
      "source": [
        "# Helper function"
      ]
    },
    {
      "cell_type": "code",
      "execution_count": 7,
      "metadata": {
        "id": "SuSuKs0q3kN1"
      },
      "outputs": [],
      "source": [
        "\n",
        "# Biến msg thành chuỗi bits 0 1\n",
        "def to_bits(s: str) -> str:\n",
        "    result: str = \"\"\n",
        "    for c in s:\n",
        "        bits = bin(ord(c))[2:]\n",
        "        bits = bits.zfill(8)\n",
        "        result += bits\n",
        "    return result\n",
        "\n",
        "# Biến chuỗi bit 0 1 thành msg\n",
        "def from_bits(bits: str) -> str:\n",
        "    chars: str = \"\"\n",
        "    for b in range(len(bits) // 8):\n",
        "        byte = bits[b * 8:(b + 1) * 8]\n",
        "        chars += chr(int(''.join([bit for bit in byte]), 2))\n",
        "    return chars\n",
        "\n",
        "\n",
        "# Invert chuỗi bit 0 1\n",
        "def invert(s: str) -> str:\n",
        "    result = \"\"\n",
        "    for c in s:\n",
        "        if c == \"0\":\n",
        "            result += \"1\"\n",
        "        else:\n",
        "            result += \"0\"\n",
        "    return result\n",
        "\n",
        "# Tách chuỗi bit thành các nhóm 4 bit\n",
        "def separate(bits: str) -> list[str]:\n",
        "    result: list[str] = []\n",
        "    for b in range(len(bits) // 4):\n",
        "        result.append(bits[b * 4: (b + 1) * 4])\n",
        "    return result\n",
        "\n",
        "\n",
        "\n",
        "# đối với từng cặp nhóm 4 bits, thực hiện phép xor dùng hàm xor_pair\n",
        "def xor_separated_bits(separated_bits: list[str]) -> list[str]:\n",
        "\n",
        "    # thực hiện xor trên 2 nhóm bits\n",
        "    def xor_pair(first: str, second: str) -> str:\n",
        "        assert len(first) == len(second)\n",
        "        return bin(int(first, 2) ^ int(second, 2))[2:].zfill(4)\n",
        "\n",
        "    result: list[str] = []\n",
        "    for b in range(0, len(separated_bits), 2):\n",
        "        result.append(xor_pair(separated_bits[b], separated_bits[b + 1]))\n",
        "    return result\n",
        "\n",
        "# đối với từng cặp nhóm 4 bits, merge bộ 4 bits đầu tiên và bộ 4 bits có được sau khi \n",
        "# đã thực hiện xor trên cặp này trước đó\n",
        "def merged_xor(separated_bits: list[str], xor_ed_bits: list[str]) -> list[str]:\n",
        "    result: list[str] = []\n",
        "    for b in range(0, len(separated_bits), 2):\n",
        "        result.append(separated_bits[b] + xor_ed_bits[b // 2])\n",
        "    return result\n",
        "\n",
        "\n",
        "\n",
        "# với từng chuỗi 8 bits sau khi merge_xor, đưa về ký tự vô hình qua hàm map_bits_to_zwc\n",
        "def encode_to_zwc(merged_xor_ed: list[str]) -> str:\n",
        "\n",
        "    # map chuỗi 4 bits sang ký tự vô hình (2 ký tự)\n",
        "    def map_bits_to_zwc(bits: str, mapped: dict[str, str]) -> str:\n",
        "        assert len(bits) == 4\n",
        "        return mapped[bits]\n",
        "\n",
        "    result = \"\"\n",
        "    for bits in merged_xor_ed:\n",
        "        result += map_bits_to_zwc(bits[:4], bits_to_zwc)\n",
        "        result += map_bits_to_zwc(bits[4:], bits_to_zwc)\n",
        "    return result\n",
        "\n",
        "# extract ký tự vô hình từ stego text và convert từng cặp ký tự về chuỗi 4 bits\n",
        "def extract_bits_from_stego(stego_text: str, mapped: dict[str, str]) -> str:\n",
        "    hidden_char = \"\"\n",
        "    for c in stego_text:\n",
        "        if c in invisible:\n",
        "            hidden_char += c\n",
        "    bits = \"\"\n",
        "    for c_index in range(0, len(hidden_char), 2):\n",
        "        bits += mapped[hidden_char[c_index] + hidden_char[c_index + 1]]\n",
        "    return bits\n"
      ]
    },
    {
      "attachments": {},
      "cell_type": "markdown",
      "metadata": {},
      "source": [
        "# Encryption"
      ]
    },
    {
      "cell_type": "code",
      "execution_count": 8,
      "metadata": {
        "id": "GZxMmjZR3Lgt"
      },
      "outputs": [],
      "source": [
        "def key_gen(msg: str, key_file: str) -> str:\n",
        "    msg_len = len(to_bits(msg))\n",
        "    key = ''.join([str(random.randint(0, 1)) for i in range(msg_len)])\n",
        "    with open(key_file, 'w') as f:\n",
        "        f.write(key)\n",
        "    return key\n",
        "\n",
        "\n",
        "def xor_str(str1: str, str2: str) -> str:\n",
        "    assert len(str1) == len(str2)\n",
        "    result = \"\"\n",
        "    for i in range(len(str1)):\n",
        "        assert str1[i] == '0' or str1[i] == '1'\n",
        "        assert str2[i] == '0' or str2[i] == '1'\n",
        "        xor_ed = int(str1[i]) ^ int(str2[i])\n",
        "        result += str(xor_ed)\n",
        "    return result\n",
        "\n",
        "\n",
        "def encrypt(message: str, key: str) -> str:\n",
        "    assert len(message) == len(key)\n",
        "    return xor_str(message, key)\n",
        "\n",
        "\n",
        "def decrypt(encrypted: str, key: str) -> str:\n",
        "    assert len(encrypted) == len(key)\n",
        "    return xor_str(encrypted, key)\n"
      ]
    },
    {
      "attachments": {},
      "cell_type": "markdown",
      "metadata": {},
      "source": [
        "# Embed"
      ]
    },
    {
      "cell_type": "code",
      "execution_count": 9,
      "metadata": {
        "id": "JEGmtZRJqjXf"
      },
      "outputs": [],
      "source": [
        "def embed(msg_file: str, cover_file: str, stego_file: str = None, key=None):\n",
        "    assert msg_file.endswith('.txt') and cover_file.endswith('.txt')\n",
        "    if stego_file:\n",
        "        assert stego_file.endswith('txt')\n",
        "    with open(msg_file, 'r', encoding='utf-8') as f:\n",
        "        msg = f.read()\n",
        "\n",
        "    with open(cover_file, 'r', encoding='utf-8') as f:\n",
        "        cover = f.read()\n",
        "\n",
        "    msg_bits = to_bits(msg)\n",
        "\n",
        "    if key:\n",
        "      msg_bits = encrypt(msg_bits, key)\n",
        "\n",
        "    inverted = invert(msg_bits)\n",
        "    separated = separate(inverted)\n",
        "    xor_ed = xor_separated_bits(separated)\n",
        "    merged_xor_ed = merged_xor(separated, xor_ed)\n",
        "    encoded = encode_to_zwc(merged_xor_ed)\n",
        "    stego_text = encoded + cover\n",
        "\n",
        "    out_file = stego_file\n",
        "    if not out_file:\n",
        "        file = cover_file.split('.')[0]\n",
        "        out_file = file + '_embedded.txt'\n",
        "    with open(out_file, 'w', encoding='utf-8') as f:\n",
        "        f.write(stego_text)"
      ]
    },
    {
      "attachments": {},
      "cell_type": "markdown",
      "metadata": {},
      "source": [
        "# Extract"
      ]
    },
    {
      "cell_type": "code",
      "execution_count": 10,
      "metadata": {
        "id": "ZTzGCnsJqloX"
      },
      "outputs": [],
      "source": [
        "def extract(embedded_file: str, output_msg_file: str = None, key=None):\n",
        "    with open(embedded_file, 'r', encoding='utf-8') as f:\n",
        "        stego_text = f.read()\n",
        "    bits = extract_bits_from_stego(stego_text, zwc_to_bits)\n",
        "    bits_separated = separate(bits)\n",
        "    xor_ed = xor_separated_bits(bits_separated)\n",
        "    merged_xor_ed = merged_xor(bits_separated, xor_ed)\n",
        "\n",
        "    msg_bits = invert(\"\".join(merged_xor_ed))\n",
        "    if key:\n",
        "      msg_bits = decrypt(msg_bits, key)\n",
        "    \n",
        "    decoded = from_bits(msg_bits)\n",
        "\n",
        "    out_file = output_msg_file\n",
        "    if not out_file:\n",
        "        file = embedded_file.split('.')[0]\n",
        "        out_file = file + '_extracted.txt'\n",
        "    with open(out_file, 'w', encoding='utf-8') as f:\n",
        "        f.write(decoded)\n"
      ]
    },
    {
      "attachments": {},
      "cell_type": "markdown",
      "metadata": {},
      "source": [
        "# Key gen"
      ]
    },
    {
      "cell_type": "code",
      "execution_count": 11,
      "metadata": {
        "colab": {
          "base_uri": "https://localhost:8080/"
        },
        "id": "h-ZvYBkZ1Vqk",
        "outputId": "5a0dea5f-c29a-4aa5-b828-d9fd18798ef3"
      },
      "outputs": [
        {
          "name": "stdout",
          "output_type": "stream",
          "text": [
            "11111110010100111101001101010010100001011100001010010110010011011011000000011001110111010000100001010010000000101110010101110001010011111100010000011011110001100110010101011010011001010111101010000100111111100101010110110001000110101111110111111001011011000001100101100011111010101000000111111000010100010110111111100100110111010100001000100101011110111011011100001100010101100101111010111110000111101011110011100011001111101100000001100100000010101100100101010000010101111100110011100000001100000100000000111001001110000000111111001111011101101100110010110001111101110000001111100010001111001010010110001101001110110111111011001100110110101010010111111111110111001110011111100000110001111111110010100101000000111001001000010011011101100101100010011111100011011000001110000110011101001001101010011111001011100010010011010000101001000111011110100111000000110011001111101111011000110101101110101011111000010000001000101011010010000011111010011100001010110101011001111010000011010101110111011010111111111100100000000001110011110101001010011001110011011101000000101101101101100101100110011000111100010111111111011101110101101100010010001000010000001110011000001000010010000000010001110101010101000101011111011010100010010000111000111100101010011100111001101101100011111010101110100100111101100101001010101110110011110101101001100111100100111111101111000110001000001000100010001011001001100111011000111111111100010010001010000101011111101111001010111011010001001010101111111111010101001101101011110100101001011000011111010011011000011011100101101001000001000111011011010100101101111011000010100000111010110011101011111001011110010110100101001010111100110101111001011000010001001000010110000100011110111011100111001100110100100000100100010000110001111110101100011101110000011000000011011101000100111100101000101110010000001110001010111111000000100111100110111101001001011000111100010000000001001010101110111101001011100111010001000001110001001001001000001100001100010001010010111100011011010101101101010110110111011110100101001010110110101001110100011000011101101110000111000010011000101101111110011111000101010100100100010011011101100010110101110001000011011000011101001010001010101000100110010111100101011100111001100011101010111010001111100101000100101111111110100100111001000110100101010110010100011110100010000000100100111100000010110110111001010010101111110100101011010011011100010110000011000110011001001011101100110011111101000010110000010011010000001001100000001111111000000011000101100100001110101001110101000000011101111100010110110101100001000101010001101110110100010001001111000101001111000110000110011111000011010101010000010010000110010111010101010101011101010001110010100111100010011011111001010100101100000001011101110111011110111110001000110000010010111111010110010101011101101010011101010001001001101010100100110001101101011000111000100000000100011011110110101001000010011010011110000010111001011100010011111111100100110000000111001110000101011000111110011111110101011011000001010111001100111101100010010100101000111000010011111000010110011010011011101100100100010101110110001110000010110101111001101101110111010011111101000111110100110011010111101110000101110010101110001000111001110101110100110110001010010010000101111101100110100111101100110100000111101101110000000001101011101110110110010001100111010100110000001101100110101000010110100100110000000000101110000001110000001100000000010010011100000111010100000011010010010111010001101111111101100001000110101010000101011000100010110100110110100110000011111111011111000111000000011000001111010110010010011000011000011010000010001100111110110010010000101010110001100100010100100110001111001011000111101000110110111101100111011011110110101101100010100001001011010101000010001011000111101111011110110110001111110010110101111001011010100111011011110111101000000001010011100100001100001110100010110010010000001100010111101011101011010011010010100000101101001101100100011110111111001010110001100100011111101111100011110001011011100011000101110011000000101011111111001111011110110100110011101000000000110110011011000110101010101101000111100111101011100011000101000010111011001011111010101110011100001110011010111100111111100101001110101111010100010110001101000000100001001101011101111001101101001101001101011100001000111000010001110000111011100000110000000100000100110000001100111001111001001010000101101000110101000110111110110001101101111101010101001101011100101001110000010010111100110111110011101011001000110001011001110010111100011010000101010110001100110010100001110010001110011110100010110100100010100011111111101100101110101100001110100011101000001000000001100101001100100101111001110111011100010000111110110110001001100000011010000101100110100011110001100001001011000111111001000110000010001011110101101010001000110110110000111001001010011010111001110000100010110110101101000010000001001011111010101001100000110110100010001101100011000101010010000001010111101110100001100111111001010011001111101010001001010010111100110010111011111010100000101110111000100110000000001100000001001100110001001101001111111110110001011010110110010100100101110100101001001000101010000000100011101100011001000110101000001001011000100100010001010001011000011100011101010011101111000101001101101110001111101100011000001111000101101111010010001010000000100011011100101011101101100101100011111111000101011110111010111101010000101101001100110010010001001011110111000000101001011110110101011010100001110111110010101011110101001111000010100010110010111000010001111011110111111011000100000100101110110111000010110001011010011011000101110100101110111001110010110110111100011001010100111111010010011011100010010110000011101000110101111000111010010110001111001000111000111100010011000010100110010001111011001010001001010000111000111011101011100111101001010011010101000110100111111110011001011000110010011100100010011011101011101100100010001011100100111011010010101001101100011011010100101101111110111101001101101100000100001011010011110011000010000100111011110001111000110110001110010100100001100101011001001010001000000001100000110000111101001110000000011111111110110001010111111000001111101000101100011111001110010000101110111110011001101000101110101101100011110010000110111011100010111110101101001001111011110110111011101101010001110010110010011001001001010001000010011111111111111001101011001001110000010100001110110100110010101110010100100000111010010001111111111111111110111000100011001001010000101010011000010000110010111100101100010010101010011010001001100011101110100110110110110111001000001000000100000100001010000100000101110100110001001111000100111001100011101111000000011111100111011011010110000001111000100101110011111101001111100011110111010101110011001100010011111111011010101011101111001011001011110100111111100100011100000011110110000100101101101111100110010111111111101101110000010000011010000100111010101001101011110111100011011001000000011111110101110000010001001011\n"
          ]
        }
      ],
      "source": [
        "key = key_gen(msg, 'key')\n",
        "print(key)"
      ]
    },
    {
      "cell_type": "code",
      "execution_count": 12,
      "metadata": {
        "id": "eU0KCbNIsRHN"
      },
      "outputs": [],
      "source": [
        "embed('msg.txt', 'cover.txt', 'embedded.txt', key)"
      ]
    },
    {
      "cell_type": "code",
      "execution_count": 13,
      "metadata": {
        "id": "2puKSnDYuzuO"
      },
      "outputs": [],
      "source": [
        "with open('embedded.txt', 'r', encoding='utf8') as f:\n",
        "  embeded = f.read()"
      ]
    },
    {
      "cell_type": "code",
      "execution_count": 14,
      "metadata": {
        "colab": {
          "base_uri": "https://localhost:8080/"
        },
        "id": "x_0tbXqDu5-A",
        "outputId": "f3494993-206c-4feb-963e-2247db31de26"
      },
      "outputs": [
        {
          "name": "stdout",
          "output_type": "stream",
          "text": [
            "‬‭‬​‎‬‬‭‪‬‎‬‪‫‬‭​‭‭​‪‬‬‎‪‬‬‎‎‬‭‬‪​‪‫‫‪‬‎‬‭‪‬‪‫‭​‎‬‪‫‫‪‬​‬​‪‬‭‬​‪‎‬‪‫‬‭‬​‫‪‭‬​‪‪‫‭‬​‪‎‬‬​‭​​‪‭‬‭‬‬‭‭‬​‬‪‫‎‬‭‎‪​‪​‪‫‪‬‬​​‬‪​‪‬‭​‬‭‫‪‎‬‭‬​‬‬​‬​‬‭‭‎​‬‭​‎‬‬‪‭‬‎‭​‬‪‫‬‭‪‬‫‪‪‬‭‎‪‬‭​‫‪‬‪‫‪‫‪‬‭‬‎​‬‪‫‫‪‬‪​‪‪‫​‭‬‪‪‬‬‪‭​‭‎‎‬‬‭‬‭‭​‪‫‪‫‪‫‪‬‪​‬‎​‬‎‬‬‭‪‬‬‪‬​‬‎‎‭‪‫‫‪​‬‎‭‬‎‎‭‭‬‫‪‎‭‪‬​‪‭​‬‭‬‭‬​‪​‪​‬​‭‎‫‪‎‬​‬‭‬‎‭‪‬‬​‬‎​‪‬​‎‭​‪‭‬‬‪‬‭‫‪‬‭‪​‬‪‎‬​‬‭‎‬‭‬​​‬‭‎‬​‬‎​‪‫‪​‬‫‪‬‪‪‫‪‫​‪​‭‫‪‪‫‬‭‭‬‫‪‬‎‭‬​‭‫‪​‭‬​​‪​‭‬‭​‭‎‭​‪​‪​‭​‭‭​‎‭‭​‭‎​‪‪‬​‬‬​‎‬‭​‬‭‬‪‭‬‫‪‪‫‭‬‪​‬​​‬‭‬‪​‎‬‬‎‪​‪‬‬​​‭‫‪‬‭‭‎‪​‫‪‪​‭‬‭​​‭​‬‭‎‭‬‬‎‬‭‭​‭​‫‪‭‬‪‫‎‭‪‬‪‫‬​‬​‪‬​‭‫‪​‬​‪​‪‬‎​‪​‪‪​‬‭​‬‪‬‭‬‭​‬‎‪​‎‭‎‬‪‫‪‬‬‪​‬​‪‭‬‪​‪‬‎‭‪‬‪​​‪‎‭​‪‭​‬‎‎‬​‬‫‪‫‪‭‎‬‎‪‬‪‫‬​‭‬‭‎‬‎‪‬‎‬​‪​‭‬‭​‭​‭‫‪‬‎‭‎‎‭‬‪‎‬‪‬​‪‭​‎‬​‭‪‬‬‪‭‬‪​‎‭‪​‭‎‎‬‪‬‪​‬​​‪​‪‬‎‫‪‭‬‬‪​‭‬‎‬​​‭‬‭‬‭‭​​‭​‪‬​​‭​‬‭‎​‪‭‬‭​‎‭‬‪‬​‬‎‭‎‬‪​‪‪‫‭​‎‭​‬‪‬​‬‪​‬‎‪‬‬‪‪​​‬‬​‬‎‪​‪‬​‭​‬‪‫‬​‬‎​‭‭‬‪‬​‪‭‬‪‬‪​‬‭‭​‎‬‬‎​‬‭‬‬‪‪‬​‬‪​‫‪‬‪‪‫‬‪‬‎‬‪‬​‭‎‬‎‬​‪‬‭‬​‬‭‬‎‬‫‪‎‬​‬‭​‬‎‪‬‬‎‎‭‬‎‎‭​‪‪​​‪‫‪‭‬‭‎‪​​‬‬‭‫‪​‭‬‪‬‎‭‎‎‭‭‎‬‭‪‫‬​‭‬‪‫‬‭​‪‭​​‪‭‎‪‬‪‫‪‫‬‎‬‭‬‎‭​‭‬‬‎‭‎​‬‭‎‬‪​‭‫‪‬‭‭‬‬‭​‬‪‬‎‭​‬​‪‭‬‪‫‭‎‪‫​‬‪​​‬‬‪‬‭‭‎‭‎‭​​‭‬‎​‬‬‭‬‪‪‬‫‪‪‫‎‭‭‎​‭‪‫‎‭‪​​‭‭‎‫‪‬‎‭​‎‬‎‭‪‬‎‭​‬‬‭‎‬‫‪‬‭‪‬​‭‬‪‫‪‬‎‎‭‬‪​‬‭‎‬‭​‪‭‬‬​​‭​‭​‭​‪‫‪​‭‎‬‎‭‪‫​‪‭​‪‬‭‎‬​‭‬​‪‪‫‭‬​‭‬‎‎‬‭‎‭​‎‭​‪​‬​‪‎‬​‪‭​​‪​‭‭​‎‬‬‪‬‪‬‪​‬​‬‪‫‎‬​‪​‬‬​‪​‎‬​‬‫‪‭‎‬‎‎‬‬‪‬‎​‬‬​‬​​‪‬​​‪‫‪​‪‪​​‬‭​​‬‭​‭‎‎‭​‬‫‪‬​‬‭‭‎‪​‫‪‬‭‫‪‬‪‭​‬​‫‪‬‎‪​‬‎‎‭‬‭‬‎‭‬‪‬‫‪‎‭‪‬‪‫‭​​‭‎‭‬​‬‪‫‪‭‎‫‪‪‬‎‬‬‭‪​​‬​‭‭‎‫‪‎‬‭‬‎‬‎‬‭​‎‬‬‭‬‎‭‬‫‪​‭‬​​‪‪‫‫‪‎‭‬‭‎‬‭​‪‬‭​‪‫‭‎‬​‭‎​‭‎‭‬‎​‬‭‎‎‭​‪‎‭‪‫‪​‬‎‪‬‬‎​‬‬‭‫‪‎‭‬‎​‪‬​‬​‎‬‎‬‎‬‫‪‭‬‭‬‫‪‭‬‪‫‪​​‬‭​‬‪‪‫‬‭‪​‬‎‎‬​‬‬‎​‭‭‬‭‎‭​​‪‪‫‪‬‭‬‭​​‭‫‪‪‫​‪‪‫‭​​‬‪‫‫‪‪​‫‪‎‬‬‭‬‭​‭​‬‪‬​‪‭‬‬​‭‎‭​‬‎‬‎‬‎‭‬​‬‫‪‭‎​‪‪‫‬‭​‬‎‬‪‫​‪‪​‪‬‪‬‪‫‎‬‬‎‪‫‬‪‭​​‬‎‭‬‎‬‭‬‪‎‬‫‪‎‭‪​‎‬‭‬​‭‪‫​‭‎‭‭‎‎‭‪‬‬‪‫‪​‬‪‬‎‭​‬‎‭‬‪‪‫​‬‎‭‪‬‬​‪‬‬‭‪​‫‪‭‬‫‪‭‎‪‬‬‎‪‫‬‪​‪‎‭‬​‬‪‬‭​‭‪‬‭‬‬‎​‭‎‬‭​​‬​‭‪​‪‫‎‬‪‬‬‎‪​‪‫‪​‭‎‬‎‭‬‬‪​‪‬‭‬‪‫‪‎‬​‬‪‬‬‭​‬‪‫‬‪​‭‭‎‪‬‎‭‬‭​‬‬‪‬‎‎‬‪‫‫‪‎‭‫‪‪​‪​‎‭‪‫‬​‫‪‬‭‪‫‪‬‭​‬​‪‫‬‪‎‬‎‭‭‎‪‬‪‬‎‬‬‎‬‭​‬‭‎‭​‪‬‫‪‪‫‬​‬‭‪‫‭​​‪​‬‬‎​‭‬‪‪‬‪‫‭‎​‬‭‎‬‭‭‬‪‫‪​​‪‪‫‬‭‪‫‎‬‭​​‭‭‎‎‬‬‭‬‎‎‭‬‭‪‬‪​‭‎‬‎‫‪‪​​‪‭​‬‎‬‎‬‪‭​​‭‬‭‪‫‎‬‬‎​‭‪‬‪​‬‭​‭‭‬‪​‫‪‪​‪‬‬‭‎‬‎‬​‪‬‭‎‬‫‪‭‎‪​‪‫‬‪‬‪‭​‎‭‭‬‬​​‬‪​‪‬‬‎‪‬‬‎‬‪‬‭‭​​‭‭‬‬‭‬‎‬‪‬‎‪​‎‬‬‭‫‪‬‭​‭‬‭‎‭‪‬‫‪‭‎‎‬​‭​‬‬‪‪‬‬‎‬‎​‪‪‫‫‪‎‬‬‎‪‬‎‭‬​‎‭‬‭‭​‬‭‪‫‬‎‎‬‬‪‬‪​‭‪‬‪‫‪‬‬​​‬‫‪​‪‎‭‎‭‎‭‎‬​‬‪‬‪​‎‭‪​​‭‬‭‎‭​‪‬‎‎‭‎‭‭​‪‫‭‬‭‬‬‪‭​‫‪‎‬‎‭‭​​‬‭​‫‪​‬‭​‭‬‬‭‬‎‬​‬‪‬​‬‎‫‪‬​‭‬‪‫‬‭​‭‬‪‫‪‎‭‎‭‬​‫‪‎‬‬‭‎‭‬‭‫‪​‪‬‎‬‪‭‬‫‪​‪‬​‬‎‎‭‭‬‪‬‬‭‬‭‎‭‎‬‬‎‪​‫‪​‬‬​‫‪‬‭‬​‫‪‬​‎‭‪‬‎‭‎‭​‭‪‫‎‬‪‫‫‪‬‭​‪‪​‬‎‫‪‪​​‬‫‪‎‬‭​‪‫‎‬​‬‪‬‫‪‎‭‭‬‬‭‎‭‎‭‭‬‭‬​‬‪‬‬‪‪​​‭‎‭‪‫‭‬‬‪‎‭‎‭‫‪‪‫‪‫‬‪‭‬​‬‎‭‪​​‪‪‬‭​‬‎‪‬‬‭‪​‬‪‎‬‭​‬​‭‎​‬‪​‬‭‭​‬‪‫‪‎‭‪​‭‬‭‎‫‪‭​‫‪‪‬‪‫‪‬‭‎‎‬‬​​‬‭‬‪‫‪‫‭‬​‬‭​‭​‬‪‭‎‪‬‭‬‭​‎‬‭​‬‪​‪‬‭‬‭‪‫‪‬‬‭​‭‬‪‪‬‭‎‪‬​‭‬‭‬‭‫‪‬‪‬​‭‎​‪​‪‬‎​‭‬‪​‭‎‭​‬‬‎‪‫‭‎‬‪‪‫‬‪‬‎‭‎‫‪‫‪‬‎‬​‬​​‪‭‬‎‭​‬​‭‬‭‪‬​‭‬‭​‬‎‬‭​‪‫‬‪​‬‬‪​‪​‪‭‬​‭‎‬‭‬‎‭‭‬‬‪‬‪‪‫‬‭‬​‭‬‭‎​‬​‬‭​​‪‬‎‬​‭‎‭​​‬‫‪‬‭‬‭‬‭‎‬‬‎‪‬‭​‪‬‬​‬​‪‬‬‭​‬‪​‬‪‪‬‭​​‪‎‭‎‬‎‬‎‬‪‫‬‪‬​‫‪‬​​‬‬‭‭​‬‎‭‬‭​‬‎‭‎‭​‭‬‬‎‬​‎‬​‭‭​‭‬‪‬‭‬‎‬‫‪‪​‭‬‬‎‪​‭​‭​‎‭​‬​‪‪‬‬‎‬‎‪‫‭​​‬‪‬​‭​‬‫‪‬‎‭‬​‬‎‭‭‎‬‪‭‬‪‫‭​​‬‬​‪‫‭‬‬​‭​‬‪​‭‎‬‪‬‪‬​‪‎‭‬‪‫‪‪​‪​‬‭‪‬‬‪‬​‬‎‬​​‭‎‬‪‫‬‭‬‎‭‬‭‬‬‪‪‫‪‬‪​​‬‪‬‬‪​‪‬‭‬‭​‪‬‪‎‭‭‬‪‬‬​‪​‬‪‫‪‎‬‬‪‪‬‭‬‪‬‬‪‎‬‭‬‬‎‪​‬‎‭​​‭‬‪‪​​‪​‭‬​​‪‪​‎‬‬‪‪‫‭‎‭‬‬‎‪​‬‪‬​‪‬‬‎‫‪‫‪​‭‬​‭​‎‬‬​‪‬‭​‭‬​‪​‬​‬‎‬‬‭‭‎‬‭‪‬‪‬‪​‪‫‎‬‪‬‪‬‭‎‎‬‬‎‎‬‎‭‬​‪​​‬‭​‪‫‎‬‬‭‪‫‬‪‭‬‎‭​‬‪​‭‬‪‬​‭​‪​‭​‬​‪‭​‪​‪​‬​‎‭​‪‪​‪​​‪‭‎‬‎‬‎​‪​‪​‪‎‬‪‫‬‎​‪‬‭​‭‪​‫‪‭‬‬​‬‭‪​‫‪‬‪‫‪‫‪‎‭​‭​‪‭‎‬‪‬‪‫‪‭‬‎‭‎‬‎‭​‭‎‬‭‬‭‬‪‬‭‬​‪‬‪‭​‪‫‪​​‪‪‫‬‎‬‎‎‬‭‎‫‪‪​​‬‎‭‪​‬‭‬‎‫‪‬‭‫‪‬​‬‭‬‪‭‬‬​‪‫​‭‎‭​‬‪​​‬‭‬‭‬‎‬‪​​‬‪‬‭‬‪​‭​‪‫‪​‪​‎‬‪​‭‎‪​​‭​‭‬‎‪​‭‎‬​‭‎‪‬​‭‭‬‭​‬‭​‬​‪‭​‬‎‬​‫‪​‬​‬‬​​‬‬‭‬​‪‬​‭​‭‪‫‎‬‎‭​‭‎‬‎‬‬‪‬​‬‎​‪‪‫‎‬​‭‭​‬​‬‪‬​‪​‬‪​‬‬‭‎‭‪‬‭​‎‭‫‪‭​‪‬‫‪​‬​‬‬‭‪​‬‭‭‎‪​​‭‫‪‎‭​‬‎‭‬‪‬​‭‬‬‭​‭‭​‬​‫‪‬​‎‬‬‪‬‎‪‬​‪‬‭‪‫‎‬‬‎​‪‎‬‭‬‪‫​‪​‭‎‭‬‪‬‪‫‪‪​‬​‪‬‪‬‬‎‪‫‭​‪‫‭​‎‭‬‭‬‭‪​‪‬​‪‬​‎‭‬‭‬‪‪‫‭‎‪‬​‬‎‬‫‪​‬​‭‬​‬‪‬‪​‬‪​​‭​‬​‪‬​‬‪‎‬‪‬‪‫​‭‪‬‪​‎‬‭‎‭‎‭‎​‭‪‫‭​‎‭‬​‫‪‬‭‬​‫‪​‪‬‭‭‬​‬‬‪​‭‪‬‬​‬‎​‪‎‭​‭‭‬‫‪‬‎‬‭‪‫‪‫​‪‪‫‬‪xin chao cac ban\n",
            "\n"
          ]
        }
      ],
      "source": [
        "print(embeded)"
      ]
    },
    {
      "cell_type": "code",
      "execution_count": 15,
      "metadata": {
        "id": "FbYtKBPFuIJs"
      },
      "outputs": [],
      "source": [
        "extract('embedded.txt', \"extracted.txt\", key)"
      ]
    },
    {
      "cell_type": "code",
      "execution_count": 16,
      "metadata": {
        "id": "OUZIvFvbuHB3"
      },
      "outputs": [],
      "source": [
        "with open('extracted.txt', 'r', encoding='utf8') as f:\n",
        "  extracted = f.read()"
      ]
    },
    {
      "cell_type": "code",
      "execution_count": 17,
      "metadata": {
        "colab": {
          "base_uri": "https://localhost:8080/"
        },
        "id": "eOWnQ6Q4ucAW",
        "outputId": "d0d6f3b7-049d-43c5-c92d-f7a71b840275"
      },
      "outputs": [
        {
          "name": "stdout",
          "output_type": "stream",
          "text": [
            "Sed ut perspiciatis unde omnis iste natus error sit voluptatem accusantium doloremque laudantium, totam rem aperiam, eaque ipsa quae ab illo inventore veritatis et quasi architecto beatae vitae dicta sunt explicabo. Nemo enim ipsam voluptatem quia voluptas sit aspernatur aut odit aut fugit, sed quia consequuntur magni dolores eos qui ratione voluptatem sequi nesciunt. Neque porro quisquam est, qui dolorem ipsum quia dolor sit amet, consectetur, adipisci velit, sed quia non numquam eius modi tempora incidunt ut labore et dolore magnam aliquam quaerat voluptatem. Ut enim ad minima veniam, quis nostrum exercitationem ullam corporis suscipit laboriosam, nisi ut aliquid ex ea commodi consequatur? Quis autem vel eum iure reprehenderit qui in ea voluptate velit esse quam nihil molestiae consequatur, vel illum qui dolorem eum fugiat quo voluptas nulla pariatur?\n"
          ]
        }
      ],
      "source": [
        "print(extracted)"
      ]
    },
    {
      "cell_type": "code",
      "execution_count": 18,
      "metadata": {
        "colab": {
          "base_uri": "https://localhost:8080/"
        },
        "id": "kcgPKAXgudms",
        "outputId": "68614ab1-e157-4963-9d89-146c1223d52e"
      },
      "outputs": [
        {
          "name": "stdout",
          "output_type": "stream",
          "text": [
            "Sed ut perspiciatis unde omnis iste natus error sit voluptatem accusantium doloremque laudantium, totam rem aperiam, eaque ipsa quae ab illo inventore veritatis et quasi architecto beatae vitae dicta sunt explicabo. Nemo enim ipsam voluptatem quia voluptas sit aspernatur aut odit aut fugit, sed quia consequuntur magni dolores eos qui ratione voluptatem sequi nesciunt. Neque porro quisquam est, qui dolorem ipsum quia dolor sit amet, consectetur, adipisci velit, sed quia non numquam eius modi tempora incidunt ut labore et dolore magnam aliquam quaerat voluptatem. Ut enim ad minima veniam, quis nostrum exercitationem ullam corporis suscipit laboriosam, nisi ut aliquid ex ea commodi consequatur? Quis autem vel eum iure reprehenderit qui in ea voluptate velit esse quam nihil molestiae consequatur, vel illum qui dolorem eum fugiat quo voluptas nulla pariatur?\n"
          ]
        }
      ],
      "source": [
        "print(msg)"
      ]
    },
    {
      "cell_type": "code",
      "execution_count": 19,
      "metadata": {
        "id": "8tac3lJIuenY"
      },
      "outputs": [],
      "source": [
        "assert extracted == msg"
      ]
    }
  ],
  "metadata": {
    "colab": {
      "provenance": []
    },
    "kernelspec": {
      "display_name": "Python 3",
      "name": "python3"
    },
    "language_info": {
      "codemirror_mode": {
        "name": "ipython",
        "version": 3
      },
      "file_extension": ".py",
      "mimetype": "text/x-python",
      "name": "python",
      "nbconvert_exporter": "python",
      "pygments_lexer": "ipython3",
      "version": "3.11.2"
    }
  },
  "nbformat": 4,
  "nbformat_minor": 0
}

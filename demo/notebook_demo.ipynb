{
  "nbformat": 4,
  "nbformat_minor": 0,
  "metadata": {
    "colab": {
      "provenance": []
    },
    "kernelspec": {
      "name": "python3",
      "display_name": "Python 3"
    },
    "language_info": {
      "name": "python"
    }
  },
  "cells": [
    {
      "cell_type": "code",
      "execution_count": 104,
      "metadata": {
        "id": "qeIZOrOlfxEZ"
      },
      "outputs": [],
      "source": [
        "with open('msg.txt', 'r', encoding='utf8') as f:\n",
        "  msg = f.read()"
      ]
    },
    {
      "cell_type": "code",
      "source": [
        "print(msg)"
      ],
      "metadata": {
        "colab": {
          "base_uri": "https://localhost:8080/"
        },
        "id": "9cjFftmAiPNs",
        "outputId": "d4c3eae5-87f0-4249-c054-a0a033c92c46"
      },
      "execution_count": 105,
      "outputs": [
        {
          "output_type": "stream",
          "name": "stdout",
          "text": [
            "Sed ut perspiciatis unde omnis iste natus error sit voluptatem accusantium doloremque laudantium, totam rem aperiam, eaque ipsa quae ab illo inventore veritatis et quasi architecto beatae vitae dicta sunt explicabo. Nemo enim ipsam voluptatem quia voluptas sit aspernatur aut odit aut fugit, sed quia consequuntur magni dolores eos qui ratione voluptatem sequi nesciunt. Neque porro quisquam est, qui dolorem ipsum quia dolor sit amet, consectetur, adipisci velit, sed quia non numquam eius modi tempora incidunt ut labore et dolore magnam aliquam quaerat voluptatem. Ut enim ad minima veniam, quis nostrum exercitationem ullam corporis suscipit laboriosam, nisi ut aliquid ex ea commodi consequatur? Quis autem vel eum iure reprehenderit qui in ea voluptate velit esse quam nihil molestiae consequatur, vel illum qui dolorem eum fugiat quo voluptas nulla pariatur?\n"
          ]
        }
      ]
    },
    {
      "cell_type": "code",
      "source": [
        "with open('cover.txt', 'r', encoding='utf-8') as f:\n",
        "    cover = f.read()"
      ],
      "metadata": {
        "id": "wDq9ut8UiUgx"
      },
      "execution_count": 106,
      "outputs": []
    },
    {
      "cell_type": "code",
      "source": [
        "print(cover)"
      ],
      "metadata": {
        "colab": {
          "base_uri": "https://localhost:8080/"
        },
        "id": "pSIqg3fbibNx",
        "outputId": "eb901026-d176-4326-9cff-ea116f152e06"
      },
      "execution_count": 107,
      "outputs": [
        {
          "output_type": "stream",
          "name": "stdout",
          "text": [
            "xin chao cac ban\n",
            "\n"
          ]
        }
      ]
    },
    {
      "cell_type": "code",
      "source": [
        "invisible = {\n",
        "    \"\\u200B\",\n",
        "    \"\\u200E\",\n",
        "    \"\\u202C\",\n",
        "    \"\\u202A\",\n",
        "    \"\\u202B\",\n",
        "    \"\\u202C\",\n",
        "    \"\\u202D\",\n",
        "}\n",
        "\n",
        "bits_to_zwc = {\n",
        "    \"0001\": \"\\u200B\\u202A\",\n",
        "    \"0010\": \"\\u202A\\u200B\",\n",
        "    \"0011\": \"\\u202C\\u202A\",\n",
        "    \"0100\": \"\\u202A\\u202C\",\n",
        "    \"0101\": \"\\u202C\\u202D\",\n",
        "    \"0110\": \"\\u200B\\u202C\",\n",
        "    \"0111\": \"\\u202C\\u200B\",\n",
        "    \"1000\": \"\\u202A\\u202B\",\n",
        "    \"1001\": \"\\u202B\\u202A\",\n",
        "    \"1010\": \"\\u200E\\u202D\",\n",
        "    \"1011\": \"\\u202D\\u200E\",\n",
        "    \"1100\": \"\\u200E\\u202C\",\n",
        "    \"1101\": \"\\u202C\\u200E\",\n",
        "    \"1110\": \"\\u202D\\u202C\",\n",
        "    \"1111\": \"\\u202D\\u200B\",\n",
        "    \"0000\": \"\\u200B\\u202D\"\n",
        "}\n",
        "\n",
        "zwc_to_bits = {bits_to_zwc[x]: x for x in bits_to_zwc.keys()}"
      ],
      "metadata": {
        "id": "zk5EXrFfqqsj"
      },
      "execution_count": 108,
      "outputs": []
    },
    {
      "cell_type": "code",
      "source": [
        "def to_bits(s: str) -> str:\n",
        "    result: str = \"\"\n",
        "    for c in s:\n",
        "        bits = bin(ord(c))[2:]\n",
        "        bits = bits.zfill(8)\n",
        "        result += bits\n",
        "    return result"
      ],
      "metadata": {
        "id": "LW1IBjcrilQL"
      },
      "execution_count": 109,
      "outputs": []
    },
    {
      "cell_type": "code",
      "source": [
        "def invert(s: str) -> str:\n",
        "    result = \"\"\n",
        "    for c in s:\n",
        "        if c == \"0\":\n",
        "            result += \"1\"\n",
        "        else:\n",
        "            result += \"0\"\n",
        "    return result"
      ],
      "metadata": {
        "id": "BPiustulqKlD"
      },
      "execution_count": 110,
      "outputs": []
    },
    {
      "cell_type": "code",
      "source": [
        "def from_bits(bits: str) -> str:\n",
        "    chars: str = \"\"\n",
        "    for b in range(len(bits) // 8):\n",
        "        byte = bits[b * 8:(b + 1) * 8]\n",
        "        chars += chr(int(''.join([bit for bit in byte]), 2))\n",
        "    return chars"
      ],
      "metadata": {
        "id": "YmWXwAsTqNFV"
      },
      "execution_count": 111,
      "outputs": []
    },
    {
      "cell_type": "code",
      "source": [
        "def separate(bits: str) -> list[str]:\n",
        "    result: list[str] = []\n",
        "    for b in range(len(bits) // 4):\n",
        "        result.append(bits[b * 4: (b + 1) * 4])\n",
        "    return result"
      ],
      "metadata": {
        "id": "GBr-eWs2qPBb"
      },
      "execution_count": 112,
      "outputs": []
    },
    {
      "cell_type": "code",
      "source": [
        "def xor_pair(first: str, second: str) -> str:\n",
        "    assert len(first) == len(second)\n",
        "    return bin(int(first, 2) ^ int(second, 2))[2:].zfill(4)"
      ],
      "metadata": {
        "id": "Cu-PjLamqRG-"
      },
      "execution_count": 113,
      "outputs": []
    },
    {
      "cell_type": "code",
      "source": [
        "def xor_separated_bits(separated_bits: list[str]) -> list[str]:\n",
        "    result: list[str] = []\n",
        "    for b in range(0, len(separated_bits), 2):\n",
        "        result.append(xor_pair(separated_bits[b], separated_bits[b + 1]))\n",
        "    return result"
      ],
      "metadata": {
        "id": "X_jtlRaRqSyk"
      },
      "execution_count": 114,
      "outputs": []
    },
    {
      "cell_type": "code",
      "source": [
        "def merged_xor(separated_bits: list[str], xor_ed_bits: list[str]) -> list[str]:\n",
        "    result: list[str] = []\n",
        "    for b in range(0, len(separated_bits), 2):\n",
        "        result.append(separated_bits[b] + xor_ed_bits[b // 2])\n",
        "    return result"
      ],
      "metadata": {
        "id": "EJNd-85UqVD7"
      },
      "execution_count": 115,
      "outputs": []
    },
    {
      "cell_type": "code",
      "source": [
        "def map_bits_to_zwc(bits: str, mapped: dict[str, str]) -> str:\n",
        "    assert len(bits) == 4\n",
        "    return mapped[bits]"
      ],
      "metadata": {
        "id": "QB0vqVHhqfl8"
      },
      "execution_count": 116,
      "outputs": []
    },
    {
      "cell_type": "code",
      "source": [
        "def encode_to_zwc(merged_xor_ed: list[str]) -> str:\n",
        "    result = \"\"\n",
        "    for bits in merged_xor_ed:\n",
        "        result += map_bits_to_zwc(bits[:4], bits_to_zwc)\n",
        "        result += map_bits_to_zwc(bits[4:], bits_to_zwc)\n",
        "    return result"
      ],
      "metadata": {
        "id": "ffWe10L2qYoN"
      },
      "execution_count": 117,
      "outputs": []
    },
    {
      "cell_type": "code",
      "source": [
        "def extract_bits_from_stego(stego_text: str, mapped: dict[str, str]) -> str:\n",
        "    hidden_char = \"\"\n",
        "    for c in stego_text:\n",
        "        if c in invisible:\n",
        "            hidden_char += c\n",
        "    bits = \"\"\n",
        "    for c_index in range(0, len(hidden_char), 2):\n",
        "        bits += mapped[hidden_char[c_index] + hidden_char[c_index + 1]]\n",
        "    return bits\n"
      ],
      "metadata": {
        "id": "pjs0xWYtqbcb"
      },
      "execution_count": 118,
      "outputs": []
    },
    {
      "cell_type": "code",
      "source": [
        "def embed(msg_file: str, cover_file: str, stego_file: str = None):\n",
        "    assert msg_file.endswith('.txt') and cover_file.endswith('.txt')\n",
        "    if stego_file:\n",
        "        assert stego_file.endswith('txt')\n",
        "    with open(msg_file, 'r', encoding='utf-8') as f:\n",
        "        msg = f.read()\n",
        "\n",
        "    with open(cover_file, 'r', encoding='utf-8') as f:\n",
        "        cover = f.read()\n",
        "\n",
        "    msg_bits = to_bits(msg)\n",
        "\n",
        "    inverted = invert(msg_bits)\n",
        "    separated = separate(inverted)\n",
        "    xor_ed = xor_separated_bits(separated)\n",
        "    merged_xor_ed = merged_xor(separated, xor_ed)\n",
        "    encoded = encode_to_zwc(merged_xor_ed)\n",
        "    stego_text = encoded + cover\n",
        "\n",
        "    out_file = stego_file\n",
        "    if not out_file:\n",
        "        file = cover_file.split('.')[0]\n",
        "        out_file = file + '_embedded.txt'\n",
        "    with open(out_file, 'w', encoding='utf-8') as f:\n",
        "        f.write(stego_text)"
      ],
      "metadata": {
        "id": "JEGmtZRJqjXf"
      },
      "execution_count": 119,
      "outputs": []
    },
    {
      "cell_type": "code",
      "source": [
        "def extract(embedded_file: str, output_msg_file: str = None):\n",
        "    with open(embedded_file, 'r', encoding='utf-8') as f:\n",
        "        stego_text = f.read()\n",
        "    bits = extract_bits_from_stego(stego_text, zwc_to_bits)\n",
        "    bits_separated = separate(bits)\n",
        "    xor_ed = xor_separated_bits(bits_separated)\n",
        "    merged_xor_ed = merged_xor(bits_separated, xor_ed)\n",
        "    bits_inverted = invert(\"\".join(merged_xor_ed))\n",
        "\n",
        "    decoded = from_bits(bits_inverted)\n",
        "\n",
        "    out_file = output_msg_file\n",
        "    if not out_file:\n",
        "        file = embedded_file.split('.')[0]\n",
        "        out_file = file + '_extracted.txt'\n",
        "    with open(out_file, 'w', encoding='utf-8') as f:\n",
        "        f.write(decoded)\n"
      ],
      "metadata": {
        "id": "ZTzGCnsJqloX"
      },
      "execution_count": 120,
      "outputs": []
    },
    {
      "cell_type": "code",
      "source": [
        "embed('msg.txt', 'cover.txt')"
      ],
      "metadata": {
        "id": "eU0KCbNIsRHN"
      },
      "execution_count": 121,
      "outputs": []
    },
    {
      "cell_type": "code",
      "source": [
        "with open('cover_embedded.txt', 'r', encoding='utf8') as f:\n",
        "  embeded = f.read()"
      ],
      "metadata": {
        "id": "2puKSnDYuzuO"
      },
      "execution_count": 122,
      "outputs": []
    },
    {
      "cell_type": "code",
      "source": [
        "print(embeded)"
      ],
      "metadata": {
        "colab": {
          "base_uri": "https://localhost:8080/"
        },
        "id": "x_0tbXqDu5-A",
        "outputId": "603ca042-0b0c-479a-875c-dbdd125cfc1f"
      },
      "execution_count": 123,
      "outputs": [
        {
          "output_type": "stream",
          "name": "stdout",
          "text": [
            "‎‭​‬‫‪‬‪‫‪‪​‬‎‪​‪‫‪​‪‫‬‪‬‎‪​‪‫‬​‫‪‬‪‪‫‬‭‪‫‪‬‪‫‬​‫‪‭​‫‪‬‭‫‪‭​‫‪‬​‪‫‬‪‫‪‭​‪‫‪‬‬‎‪​‪‫‪​‫‪‪‫‫‪‪​‫‪‬‪‬‎‪​‫‪‫‪‫‪‭‎‫‪‪‫‫‪‭​‪‫‪‬‬‎‪​‫‪‭​‪‫‪‬‪‫‬‪‫‪‬‪‬‎‪​‫‪‪‫‫‪‬​‪‫‬‪‪‫‪​‪‫‪‬‬‎‪​‫‪‬‪‪‫‬‭‪‫‬‭‫‪‫‪‪‫‬‭‬‎‪​‪‫‪‬‫‪‭​‪‫‬‪‬‎‪​‪‫​‪‫‪‫‪‫‪‎‭‪‫‪​‪‫‬​‪‫‬‪‫‪‬​‪‫‬‪‫‪‬‪‫‪‭‎‬‎‪​‫‪‬​‫‪‬‭‫‪‬‭‪‫‪​‪‫‪‬‫‪‬​‫‪‪‫‪‫‬‪‫‪‭​‪‫‪​‫‪‭‎‬‎‪​‫‪‪​‫‪‫‪‫‪‎‭‫‪‫‪‪‫‬‭‫‪‬‪‫‪‭‎‪‫​‬‪‫‪​‫‪‬‪‬‎‪​‫‪‎‭‫‪‬​‪‫‪​‫‪‪​‫‪‬​‫‪‪‫‪‫‬‪‫‪‭​‪‫‪​‫‪‭‎‬‎‭‬‬‎‪​‪‫‬‪‫‪‫‪‪‫‬‪‫‪‬​‫‪‭‎‬‎‪​‪‫‬‭‫‪‬‪‫‪‭‎‬‎‪​‫‪‬​‪‫‬​‫‪‬‪‪‫‬‭‫‪‭​‫‪‬​‫‪‭‎‬‎‭‬‬‎‪​‫‪‬‪‫‪‬​‪‫​‬‪‫‪​‫‪‬‪‬‎‪​‫‪‭​‪‫‬​‪‫‪‬‫‪‬​‬‎‪​‪‫​‬‪‫‪​‫‪‬​‫‪‬‪‬‎‪​‫‪‬​‫‪‪‬‬‎‪​‫‪‭​‫‪‎‭‫‪‎‭‫‪‫‪‬‎‪​‫‪‭​‫‪‪‫‪‫​‪‫‪‬‪‫‪‪‫‪‫‬‪‫‪‫‪‪‫‬‭‫‪‬‪‬‎‪​‪‫​‪‫‪‬‪‪‫‬‭‫‪‭​‪‫‬‪‫‪‬​‪‫‬‪‫‪‭​‪‫‪‬‬‎‪​‫‪‬‪‪‫‬‪‬‎‪​‪‫​‬‪‫‪​‫‪‬​‪‫‪‬‫‪‭​‬‎‪​‫‪‬​‪‫‬‭‫‪‬‭‫‪‭‬‫‪‭​‪‫‬‪‫‪‬‪‫‪‬‭‪‫‬‪‫‪‫‪‬‎‪​‫‪‪‬‫‪‬‪‫‪‬​‪‫‬‪‫‪‬​‫‪‬‪‬‎‪​‪‫​‪‫‪‭​‪‫‬‪‫‪‬​‫‪‬‪‬‎‪​‫‪‪​‫‪‭​‫‪‬‭‪‫‬‪‫‪‬​‬‎‪​‪‫‪‬‪‫‪​‫‪‪‫‪‫‬‪‬‎‪​‫‪‬‪‪‫‭​‪‫‬​‫‪‎‭‫‪‭​‫‪‬‭‫‪‬​‫‪‪‬‫‪‫‪‬‎‎‬‬‎‪​‭‎‎‭‫‪‬‪‫‪‭‎‫‪‫‪‬‎‪​‫‪‬‪‫‪‪‫‫‪‭​‫‪‭‎‬‎‪​‫‪‭​‪‫‬​‪‫‪‬‫‪‬​‫‪‭‎‬‎‪​‪‫​‪‫‪‫‪‫‪‎‭‪‫‪​‪‫‬​‪‫‬‪‫‪‬​‪‫‬‪‫‪‬‪‫‪‭‎‬‎‪​‪‫​‬‪‫‪​‫‪‭​‫‪‬​‬‎‪​‪‫​‪‫‪‫‪‫‪‎‭‪‫‪​‪‫‬​‪‫‬‪‫‪‬​‪‫‪‬‬‎‪​‪‫‪‬‫‪‭​‪‫‬‪‬‎‪​‫‪‬​‪‫‪‬‪‫‬​‫‪‬‪‪‫‬‭‫‪‪‫‫‪‬​‪‫‬‪‪‫‪​‪‫‬‭‬‎‪​‫‪‬​‪‫‪​‪‫‬‪‬‎‪​‫‪‫‪‫‪‪​‫‪‭​‪‫‬‪‬‎‪​‫‪‬​‪‫‪​‪‫‬‪‬‎‪​‫‪​‭‪‫‪​‫‪​‪‫‪‭​‪‫‬‪‬‎‭‬‬‎‪​‪‫‪‬‫‪‬‪‫‪‪​‬‎‪​‪‫​‬‪‫‪​‫‪‭​‫‪‬​‬‎‪​‫‪‬‭‫‪‫‪‫‪‪‫‪‫‪‬‫‪‬‪‪‫​‬‪‫‪​‪‫‪​‫‪‪‫‪‫‬‪‪‫‪​‪‫‬‭‬‎‪​‫‪‭‎‫‪‬​‫‪​‪‫‪‪‫‫‪‭​‬‎‪​‫‪‪​‫‪‫‪‫‪‎‭‫‪‫‪‪‫‬‭‫‪‬‪‪‫‪‬‬‎‪​‫‪‬‪‫‪‫‪‪‫‪‬‬‎‪​‪‫​‬‪‫‪​‫‪‭​‬‎‪​‪‫‬‭‫‪‬​‪‫‬‪‫‪‭​‫‪‫‪‫‪‪‫‫‪‬‪‬‎‪​‪‫​‪‫‪‫‪‫‪‎‭‪‫‪​‪‫‬​‪‫‬‪‫‪‬​‪‫‬‪‫‪‬‪‫‪‭‎‬‎‪​‪‫‪‬‫‪‬‪‪‫​‬‪‫‪​‫‪‭​‬‎‪​‫‪‪‫‫‪‬‪‪‫‪‬‫‪‬‭‫‪‭​‪‫‪​‫‪‪‫‪‫‬‪‬‎‎‬‬‎‪​‭‎‎‭‫‪‬‪‪‫​‬‪‫‪​‫‪‬‪‬‎‪​‪‫‬​‫‪‫‪‪‫‬‭‪‫‬‭‫‪‫‪‬‎‪​‪‫​‬‪‫‪​‫‪‭​‪‫‪‬‪‫​‬‪‫‪​‫‪‬​‫‪‭‎‬‎‪​‫‪‬‪‪‫‪‬‪‫‬‪‬‎‭‬‬‎‪​‪‫​‬‪‫‪​‫‪‭​‬‎‪​‫‪‪​‫‪‫‪‫‪‎‭‫‪‫‪‪‫‬‭‫‪‬‪‫‪‭‎‬‎‪​‫‪‭​‪‫‬​‪‫‪‬‪‫‪​‫‪‭‎‬‎‪​‪‫​‬‪‫‪​‫‪‭​‫‪‬​‬‎‪​‫‪‪​‫‪‫‪‫‪‎‭‫‪‫‪‪‫‬‭‬‎‪​‪‫‪‬‫‪‭​‪‫‬‪‬‎‪​‫‪‬​‫‪‭‎‫‪‬‪‪‫‬‪‬‎‭‬‬‎‪​‫‪‬‭‫‪‫‪‫‪‪‫‪‫‪‬‫‪‬‪‫‪‬‭‪‫‬‪‫‪‬‪‪‫‬‪‪‫‪​‪‫‬‭‬‎‭‬‬‎‪​‫‪‬​‫‪‪​‫‪‭​‪‫‬​‫‪‭​‪‫‪‬‫‪‬‭‫‪‭​‬‎‪​‪‫​‪‫‪‬‪‫‪‎‭‫‪‭​‪‫‬‪‬‎‭‬‬‎‪​‪‫‪‬‫‪‬‪‫‪‪​‬‎‪​‪‫​‬‪‫‪​‫‪‭​‫‪‬​‬‎‪​‫‪‪‫‫‪‫‪‫‪‪‫‬‎‪​‫‪‪‫‪‫‪​‫‪‭‎‪‫​‬‪‫‪​‫‪‬​‫‪‭‎‬‎‪​‫‪‬‪‫‪‭​‪‫‪​‪‫‪‬‬‎‪​‫‪‭‎‫‪‫‪‫‪‪​‫‪‭​‬‎‪​‪‫‬‪‫‪‬‪‫‪‭‎‪‫‬​‫‪‫‪‪‫‬‭‫‪‬​‬‎‪​‫‪‭​‫‪‪‫‫‪‬‭‫‪‭​‫‪‪​‪‫‪​‫‪‪‫‪‫‬‪‬‎‪​‪‫‪​‪‫‬‪‬‎‪​‫‪‎‭‫‪‬​‫‪‪‬‫‪‫‪‪‫‬‭‫‪‬‪‬‎‪​‫‪‬‪‪‫‬‪‬‎‪​‫‪‪​‫‪‫‪‫‪‎‭‫‪‫‪‪‫‬‭‫‪‬‪‬‎‪​‫‪‭‎‫‪‬​‫‪​‪‫‪‪‫‫‪‬​‫‪‭‎‬‎‪​‫‪‬​‫‪‎‭‫‪‭​‪‫​‬‪‫‪​‫‪‬​‫‪‭‎‬‎‪​‪‫​‬‪‫‪​‫‪‬​‫‪‬‪‪‫‬‭‫‪‬​‪‫‬‪‬‎‪​‪‫​‪‫‪‫‪‫‪‎‭‪‫‪​‪‫‬​‪‫‬‪‫‪‬​‪‫‬‪‫‪‬‪‫‪‭‎‬‎‎‬‬‎‪​‎‭​‭‪‫‬‪‬‎‪​‫‪‬‪‫‪‪‫‫‪‭​‫‪‭‎‬‎‪​‫‪‬​‫‪‪​‬‎‪​‫‪‭‎‫‪‭​‫‪‪‫‫‪‭​‫‪‭‎‫‪‬​‬‎‪​‪‫​‪‫‪‬‪‫‪‪‫‫‪‭​‫‪‬​‫‪‭‎‬‎‭‬‬‎‪​‪‫​‬‪‫‪​‫‪‭​‪‫‪‬‬‎‪​‫‪‪‫‫‪‫‪‪‫‪‬‪‫‬‪‪‫‬‭‪‫‪​‫‪‭‎‬‎‪​‫‪‬‪‪‫‭​‫‪‬‪‪‫‬‭‫‪‬‭‫‪‭​‪‫‬‪‫‪‬​‪‫‬‪‫‪‭​‫‪‫‪‫‪‪‫‫‪‬‪‫‪‭‎‬‎‪​‪‫‪​‫‪‎‭‫‪‎‭‫‪‬​‫‪‭‎‬‎‪​‫‪‬‭‫‪‫‪‪‫‬‭‪‫‬​‫‪‫‪‪‫‬‭‫‪‭​‪‫‪‬‬‎‪​‪‫‪‬‪‫‪​‪‫‪‬‫‪‬‭‫‪‭​‪‫‬​‫‪‭​‪‫‬‪‬‎‪​‫‪‎‭‫‪‬​‫‪‪‬‫‪‫‪‪‫‬‭‫‪‭​‫‪‫‪‪‫‪‬‫‪‬​‫‪‭‎‬‎‭‬‬‎‪​‫‪‪‫‫‪‭​‪‫‪‬‫‪‭​‬‎‪​‪‫‪​‪‫‬‪‬‎‪​‫‪‬​‫‪‎‭‫‪‭​‪‫​‬‪‫‪​‫‪‭​‫‪‪​‬‎‪​‫‪‬‪‪‫‭​‬‎‪​‫‪‬‪‫‪‬​‬‎‪​‫‪‬‭‫‪‫‪‫‪‭‎‫‪‭‎‫‪‫‪‫‪‪​‫‪‭​‬‎‪​‫‪‬‭‫‪‫‪‫‪‪‫‪‫‪‬‫‪‬‪‪‫​‬‪‫‪​‫‪‬​‪‫‬‪‪‫‪​‪‫‬‭‎‬‎‬‬‎‪​‎‭‪‬‪‫‪​‫‪‭​‪‫‪‬‬‎‪​‫‪‬​‪‫‪​‪‫‬‪‫‪‬‪‫‪‭‎‬‎‪​‪‫​‪‫‪‬‪‫‪‎‭‬‎‪​‫‪‬‪‪‫‪​‫‪‭‎‬‎‪​‫‪‭​‪‫‪​‪‫‬‭‫‪‬‪‬‎‪​‪‫‬‭‫‪‬‪‪‫‬​‪‫‬‭‫‪‬‪‫‪‭‬‫‪‬‪‫‪‪‫‫‪‪​‫‪‬‪‪‫‬‭‫‪‭​‪‫‬‪‬‎‪​‪‫​‬‪‫‪​‫‪‭​‬‎‪​‫‪‭​‫‪‪‫‬‎‪​‫‪‬‪‫‪‬​‬‎‪​‪‫​‪‫‪‫‪‫‪‎‭‪‫‪​‪‫‬​‪‫‬‪‫‪‬​‪‫‬‪‫‪‬‪‬‎‪​‪‫​‪‫‪‬‪‫‪‎‭‫‪‭​‪‫‬‪‬‎‪​‫‪‬‪‪‫‪‬‪‫‪‬‫‪‬‪‬‎‪​‪‫​‬‪‫‪​‫‪‬​‫‪‭‎‬‎‪​‫‪‪‫‫‪‭​‫‪‭‬‫‪‭​‫‪‎‭‬‎‪​‫‪‭‎‫‪‫‪‫‪‎‭‫‪‬‪‪‫‪‬‪‫‬‪‫‪‭​‫‪‬​‫‪‬‪‬‎‪​‫‪‬‭‫‪‫‪‫‪‪‫‪‫‪‬‫‪‬‪‪‫​‬‪‫‪​‫‪‬​‪‫‬‪‪‫‪​‪‫‬‭‬‎‭‬‬‎‪​‪‫​‪‫‪‬‪‫‪‎‭‬‎‪​‫‪‭​‫‪‎‭‫‪‎‭‪‫‪​‫‪‭‎‬‎‪​‪‫​‬‪‫‪​‫‪‭​‬‎‪​‫‪‪​‫‪‫‪‫‪‎‭‫‪‫‪‪‫‬‭‫‪‬‪‫‪‭‎‬‎‪​‫‪‬‪‪‫‪​‫‪‭‎‬‎‪​‫‪​‭‪‫‪​‫‪​‪‫‪‭​‫‪‬​‪‫‬‪‬‎‪​‪‫​‬‪‫‪​‫‪‫‪‬‎‪​‪‫​‪‫‪‫‪‫‪‎‭‪‫‪​‪‫‬​‪‫‬‪‫‪‬​‪‫‪‬‬‎‪​‫‪‪‫‪‫‪​‫‪‎‭‫‪‎‭‫‪‬​‬‎‪​‪‫‬​‫‪‬​‪‫‬‭‫‪‭​‫‪‬​‪‫‬‪‪‫‪​‪‫‬‭‎‬‎‬xin chao cac ban\n",
            "\n"
          ]
        }
      ]
    },
    {
      "cell_type": "code",
      "source": [
        "extract('cover_embedded.txt')"
      ],
      "metadata": {
        "id": "FbYtKBPFuIJs"
      },
      "execution_count": 124,
      "outputs": []
    },
    {
      "cell_type": "code",
      "source": [
        "with open('cover_embedded_extracted.txt', 'r', encoding='utf8') as f:\n",
        "  extracted = f.read()"
      ],
      "metadata": {
        "id": "OUZIvFvbuHB3"
      },
      "execution_count": 125,
      "outputs": []
    },
    {
      "cell_type": "code",
      "source": [
        "print(extracted)"
      ],
      "metadata": {
        "colab": {
          "base_uri": "https://localhost:8080/"
        },
        "id": "eOWnQ6Q4ucAW",
        "outputId": "12966e46-cd67-4c2b-e0ab-4762c6c2fede"
      },
      "execution_count": 126,
      "outputs": [
        {
          "output_type": "stream",
          "name": "stdout",
          "text": [
            "Sed ut perspiciatis unde omnis iste natus error sit voluptatem accusantium doloremque laudantium, totam rem aperiam, eaque ipsa quae ab illo inventore veritatis et quasi architecto beatae vitae dicta sunt explicabo. Nemo enim ipsam voluptatem quia voluptas sit aspernatur aut odit aut fugit, sed quia consequuntur magni dolores eos qui ratione voluptatem sequi nesciunt. Neque porro quisquam est, qui dolorem ipsum quia dolor sit amet, consectetur, adipisci velit, sed quia non numquam eius modi tempora incidunt ut labore et dolore magnam aliquam quaerat voluptatem. Ut enim ad minima veniam, quis nostrum exercitationem ullam corporis suscipit laboriosam, nisi ut aliquid ex ea commodi consequatur? Quis autem vel eum iure reprehenderit qui in ea voluptate velit esse quam nihil molestiae consequatur, vel illum qui dolorem eum fugiat quo voluptas nulla pariatur?\n"
          ]
        }
      ]
    },
    {
      "cell_type": "code",
      "source": [
        "print(msg)"
      ],
      "metadata": {
        "colab": {
          "base_uri": "https://localhost:8080/"
        },
        "id": "kcgPKAXgudms",
        "outputId": "d5e516b0-46a7-42f0-ce7d-b827762648eb"
      },
      "execution_count": 127,
      "outputs": [
        {
          "output_type": "stream",
          "name": "stdout",
          "text": [
            "Sed ut perspiciatis unde omnis iste natus error sit voluptatem accusantium doloremque laudantium, totam rem aperiam, eaque ipsa quae ab illo inventore veritatis et quasi architecto beatae vitae dicta sunt explicabo. Nemo enim ipsam voluptatem quia voluptas sit aspernatur aut odit aut fugit, sed quia consequuntur magni dolores eos qui ratione voluptatem sequi nesciunt. Neque porro quisquam est, qui dolorem ipsum quia dolor sit amet, consectetur, adipisci velit, sed quia non numquam eius modi tempora incidunt ut labore et dolore magnam aliquam quaerat voluptatem. Ut enim ad minima veniam, quis nostrum exercitationem ullam corporis suscipit laboriosam, nisi ut aliquid ex ea commodi consequatur? Quis autem vel eum iure reprehenderit qui in ea voluptate velit esse quam nihil molestiae consequatur, vel illum qui dolorem eum fugiat quo voluptas nulla pariatur?\n"
          ]
        }
      ]
    },
    {
      "cell_type": "code",
      "source": [
        "assert extracted == msg"
      ],
      "metadata": {
        "id": "8tac3lJIuenY"
      },
      "execution_count": 128,
      "outputs": []
    }
  ]
}
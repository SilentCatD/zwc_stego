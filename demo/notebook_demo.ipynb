{
  "nbformat": 4,
  "nbformat_minor": 0,
  "metadata": {
    "colab": {
      "provenance": []
    },
    "kernelspec": {
      "name": "python3",
      "display_name": "Python 3"
    },
    "language_info": {
      "name": "python"
    }
  },
  "cells": [
    {
      "cell_type": "code",
      "source": [
        "import random"
      ],
      "metadata": {
        "id": "bsqPq8ni1FT6"
      },
      "execution_count": 518,
      "outputs": []
    },
    {
      "cell_type": "code",
      "execution_count": 519,
      "metadata": {
        "id": "qeIZOrOlfxEZ"
      },
      "outputs": [],
      "source": [
        "with open('msg.txt', 'r', encoding='utf8') as f:\n",
        "  msg = f.read()"
      ]
    },
    {
      "cell_type": "code",
      "source": [
        "print(msg)"
      ],
      "metadata": {
        "colab": {
          "base_uri": "https://localhost:8080/"
        },
        "id": "9cjFftmAiPNs",
        "outputId": "915eb4ea-e4e0-47ff-9f8c-d600d11b9d57"
      },
      "execution_count": 520,
      "outputs": [
        {
          "output_type": "stream",
          "name": "stdout",
          "text": [
            "Sed ut perspiciatis unde omnis iste natus error sit voluptatem accusantium doloremque laudantium, totam rem aperiam, eaque ipsa quae ab illo inventore veritatis et quasi architecto beatae vitae dicta sunt explicabo. Nemo enim ipsam voluptatem quia voluptas sit aspernatur aut odit aut fugit, sed quia consequuntur magni dolores eos qui ratione voluptatem sequi nesciunt. Neque porro quisquam est, qui dolorem ipsum quia dolor sit amet, consectetur, adipisci velit, sed quia non numquam eius modi tempora incidunt ut labore et dolore magnam aliquam quaerat voluptatem. Ut enim ad minima veniam, quis nostrum exercitationem ullam corporis suscipit laboriosam, nisi ut aliquid ex ea commodi consequatur? Quis autem vel eum iure reprehenderit qui in ea voluptate velit esse quam nihil molestiae consequatur, vel illum qui dolorem eum fugiat quo voluptas nulla pariatur?\n"
          ]
        }
      ]
    },
    {
      "cell_type": "code",
      "source": [
        "with open('cover.txt', 'r', encoding='utf-8') as f:\n",
        "    cover = f.read()"
      ],
      "metadata": {
        "id": "wDq9ut8UiUgx"
      },
      "execution_count": 521,
      "outputs": []
    },
    {
      "cell_type": "code",
      "source": [
        "print(cover)"
      ],
      "metadata": {
        "colab": {
          "base_uri": "https://localhost:8080/"
        },
        "id": "pSIqg3fbibNx",
        "outputId": "fd0d7943-a4a9-4036-bda3-bed900459639"
      },
      "execution_count": 522,
      "outputs": [
        {
          "output_type": "stream",
          "name": "stdout",
          "text": [
            "xin chao cac ban\n",
            "\n"
          ]
        }
      ]
    },
    {
      "cell_type": "code",
      "source": [
        "def to_bits(s: str) -> str:\n",
        "    result: str = \"\"\n",
        "    for c in s:\n",
        "        bits = bin(ord(c))[2:]\n",
        "        bits = bits.zfill(8)\n",
        "        result += bits\n",
        "    return result"
      ],
      "metadata": {
        "id": "SuSuKs0q3kN1"
      },
      "execution_count": 523,
      "outputs": []
    },
    {
      "cell_type": "code",
      "source": [
        "def key_gen(msg: str, key_file: str) -> str:\n",
        "    msg_len = len(to_bits(msg))\n",
        "    key = ''.join([str(random.randint(0, 1)) for i in range(msg_len)])\n",
        "    with open(key_file, 'w') as f:\n",
        "        f.write(key)\n",
        "    return key\n",
        "\n",
        "\n",
        "def xor_str(str1: str, str2: str) -> str:\n",
        "    assert len(str1) == len(str2)\n",
        "    result = \"\"\n",
        "    for i in range(len(str1)):\n",
        "        assert str1[i] == '0' or str1[i] == '1'\n",
        "        assert str2[i] == '0' or str2[i] == '1'\n",
        "        xor_ed = int(str1[i]) ^ int(str2[i])\n",
        "        result += str(xor_ed)\n",
        "    return result\n",
        "\n",
        "\n",
        "def encrypt(message: str, key: str) -> str:\n",
        "    assert len(message) == len(key)\n",
        "    return xor_str(message, key)\n",
        "\n",
        "\n",
        "def decrypt(encrypted: str, key: str) -> str:\n",
        "    assert len(encrypted) == len(key)\n",
        "    return xor_str(encrypted, key)"
      ],
      "metadata": {
        "id": "GZxMmjZR3Lgt"
      },
      "execution_count": 524,
      "outputs": []
    },
    {
      "cell_type": "code",
      "source": [
        "invisible = {\n",
        "    \"\\u200B\",\n",
        "    \"\\u200E\",\n",
        "    \"\\u202C\",\n",
        "    \"\\u202A\",\n",
        "    \"\\u202B\",\n",
        "    \"\\u202C\",\n",
        "    \"\\u202D\",\n",
        "}\n",
        "\n",
        "bits_to_zwc = {\n",
        "    \"0001\": \"\\u200B\\u202A\",\n",
        "    \"0010\": \"\\u202A\\u200B\",\n",
        "    \"0011\": \"\\u202C\\u202A\",\n",
        "    \"0100\": \"\\u202A\\u202C\",\n",
        "    \"0101\": \"\\u202C\\u202D\",\n",
        "    \"0110\": \"\\u200B\\u202C\",\n",
        "    \"0111\": \"\\u202C\\u200B\",\n",
        "    \"1000\": \"\\u202A\\u202B\",\n",
        "    \"1001\": \"\\u202B\\u202A\",\n",
        "    \"1010\": \"\\u200E\\u202D\",\n",
        "    \"1011\": \"\\u202D\\u200E\",\n",
        "    \"1100\": \"\\u200E\\u202C\",\n",
        "    \"1101\": \"\\u202C\\u200E\",\n",
        "    \"1110\": \"\\u202D\\u202C\",\n",
        "    \"1111\": \"\\u202D\\u200B\",\n",
        "    \"0000\": \"\\u200B\\u202D\"\n",
        "}\n",
        "\n",
        "zwc_to_bits = {bits_to_zwc[x]: x for x in bits_to_zwc.keys()}"
      ],
      "metadata": {
        "id": "zk5EXrFfqqsj"
      },
      "execution_count": 525,
      "outputs": []
    },
    {
      "cell_type": "code",
      "source": [
        "def invert(s: str) -> str:\n",
        "    result = \"\"\n",
        "    for c in s:\n",
        "        if c == \"0\":\n",
        "            result += \"1\"\n",
        "        else:\n",
        "            result += \"0\"\n",
        "    return result"
      ],
      "metadata": {
        "id": "BPiustulqKlD"
      },
      "execution_count": 526,
      "outputs": []
    },
    {
      "cell_type": "code",
      "source": [
        "def from_bits(bits: str) -> str:\n",
        "    chars: str = \"\"\n",
        "    for b in range(len(bits) // 8):\n",
        "        byte = bits[b * 8:(b + 1) * 8]\n",
        "        chars += chr(int(''.join([bit for bit in byte]), 2))\n",
        "    return chars"
      ],
      "metadata": {
        "id": "YmWXwAsTqNFV"
      },
      "execution_count": 527,
      "outputs": []
    },
    {
      "cell_type": "code",
      "source": [
        "def separate(bits: str) -> list[str]:\n",
        "    result: list[str] = []\n",
        "    for b in range(len(bits) // 4):\n",
        "        result.append(bits[b * 4: (b + 1) * 4])\n",
        "    return result"
      ],
      "metadata": {
        "id": "GBr-eWs2qPBb"
      },
      "execution_count": 528,
      "outputs": []
    },
    {
      "cell_type": "code",
      "source": [
        "def xor_pair(first: str, second: str) -> str:\n",
        "    assert len(first) == len(second)\n",
        "    return bin(int(first, 2) ^ int(second, 2))[2:].zfill(4)"
      ],
      "metadata": {
        "id": "Cu-PjLamqRG-"
      },
      "execution_count": 529,
      "outputs": []
    },
    {
      "cell_type": "code",
      "source": [
        "def xor_separated_bits(separated_bits: list[str]) -> list[str]:\n",
        "    result: list[str] = []\n",
        "    for b in range(0, len(separated_bits), 2):\n",
        "        result.append(xor_pair(separated_bits[b], separated_bits[b + 1]))\n",
        "    return result"
      ],
      "metadata": {
        "id": "X_jtlRaRqSyk"
      },
      "execution_count": 530,
      "outputs": []
    },
    {
      "cell_type": "code",
      "source": [
        "def merged_xor(separated_bits: list[str], xor_ed_bits: list[str]) -> list[str]:\n",
        "    result: list[str] = []\n",
        "    for b in range(0, len(separated_bits), 2):\n",
        "        result.append(separated_bits[b] + xor_ed_bits[b // 2])\n",
        "    return result"
      ],
      "metadata": {
        "id": "EJNd-85UqVD7"
      },
      "execution_count": 531,
      "outputs": []
    },
    {
      "cell_type": "code",
      "source": [
        "def map_bits_to_zwc(bits: str, mapped: dict[str, str]) -> str:\n",
        "    assert len(bits) == 4\n",
        "    return mapped[bits]"
      ],
      "metadata": {
        "id": "QB0vqVHhqfl8"
      },
      "execution_count": 532,
      "outputs": []
    },
    {
      "cell_type": "code",
      "source": [
        "def encode_to_zwc(merged_xor_ed: list[str]) -> str:\n",
        "    result = \"\"\n",
        "    for bits in merged_xor_ed:\n",
        "        result += map_bits_to_zwc(bits[:4], bits_to_zwc)\n",
        "        result += map_bits_to_zwc(bits[4:], bits_to_zwc)\n",
        "    return result"
      ],
      "metadata": {
        "id": "ffWe10L2qYoN"
      },
      "execution_count": 533,
      "outputs": []
    },
    {
      "cell_type": "code",
      "source": [
        "def extract_bits_from_stego(stego_text: str, mapped: dict[str, str]) -> str:\n",
        "    hidden_char = \"\"\n",
        "    for c in stego_text:\n",
        "        if c in invisible:\n",
        "            hidden_char += c\n",
        "    bits = \"\"\n",
        "    for c_index in range(0, len(hidden_char), 2):\n",
        "        bits += mapped[hidden_char[c_index] + hidden_char[c_index + 1]]\n",
        "    return bits\n"
      ],
      "metadata": {
        "id": "pjs0xWYtqbcb"
      },
      "execution_count": 534,
      "outputs": []
    },
    {
      "cell_type": "code",
      "source": [
        "def embed(msg_file: str, cover_file: str, stego_file: str = None, key=None):\n",
        "    assert msg_file.endswith('.txt') and cover_file.endswith('.txt')\n",
        "    if stego_file:\n",
        "        assert stego_file.endswith('txt')\n",
        "    with open(msg_file, 'r', encoding='utf-8') as f:\n",
        "        msg = f.read()\n",
        "\n",
        "    with open(cover_file, 'r', encoding='utf-8') as f:\n",
        "        cover = f.read()\n",
        "\n",
        "    msg_bits = to_bits(msg)\n",
        "\n",
        "    if key:\n",
        "      msg_bits = encrypt(msg_bits, key)\n",
        "\n",
        "    inverted = invert(msg_bits)\n",
        "    separated = separate(inverted)\n",
        "    xor_ed = xor_separated_bits(separated)\n",
        "    merged_xor_ed = merged_xor(separated, xor_ed)\n",
        "    encoded = encode_to_zwc(merged_xor_ed)\n",
        "    stego_text = encoded + cover\n",
        "\n",
        "    out_file = stego_file\n",
        "    if not out_file:\n",
        "        file = cover_file.split('.')[0]\n",
        "        out_file = file + '_embedded.txt'\n",
        "    with open(out_file, 'w', encoding='utf-8') as f:\n",
        "        f.write(stego_text)"
      ],
      "metadata": {
        "id": "JEGmtZRJqjXf"
      },
      "execution_count": 535,
      "outputs": []
    },
    {
      "cell_type": "code",
      "source": [
        "def extract(embedded_file: str, output_msg_file: str = None, key=None):\n",
        "    with open(embedded_file, 'r', encoding='utf-8') as f:\n",
        "        stego_text = f.read()\n",
        "    bits = extract_bits_from_stego(stego_text, zwc_to_bits)\n",
        "    bits_separated = separate(bits)\n",
        "    xor_ed = xor_separated_bits(bits_separated)\n",
        "    merged_xor_ed = merged_xor(bits_separated, xor_ed)\n",
        "\n",
        "    msg_bits = invert(\"\".join(merged_xor_ed))\n",
        "    if key:\n",
        "      msg_bits = decrypt(msg_bits, key)\n",
        "    \n",
        "    decoded = from_bits(msg_bits)\n",
        "\n",
        "    out_file = output_msg_file\n",
        "    if not out_file:\n",
        "        file = embedded_file.split('.')[0]\n",
        "        out_file = file + '_extracted.txt'\n",
        "    with open(out_file, 'w', encoding='utf-8') as f:\n",
        "        f.write(decoded)\n"
      ],
      "metadata": {
        "id": "ZTzGCnsJqloX"
      },
      "execution_count": 536,
      "outputs": []
    },
    {
      "cell_type": "code",
      "source": [
        "key = key_gen(msg, 'key')\n",
        "print(key)"
      ],
      "metadata": {
        "colab": {
          "base_uri": "https://localhost:8080/"
        },
        "id": "h-ZvYBkZ1Vqk",
        "outputId": "5a0dea5f-c29a-4aa5-b828-d9fd18798ef3"
      },
      "execution_count": 537,
      "outputs": [
        {
          "output_type": "stream",
          "name": "stdout",
          "text": [
            "00110010001101010111110000010101100110101010011010101000011010111101001101011010000010010110011010001010111000000000000111101110101011110000011111111100010000110100101011101011011001001111010100000000000010101101110011100001010001000011011111101000001111011101100101000011010010001111111001101001011101010101000111010001000011100111000111100011010000100100010110101010100111001111011010100111101101011111000001111100001001101000100111100001010110011001011101001111010000100111011001010110011010010010111000100110100111001110110010111111101100001101100110000111010111100010011100000000011011110000111000001011000010101010000001011010110110110010101101100101000111100001110100000010111110011010111110010011111100010111011001010001110000000010001010011000111101000101100100011011011110100000010000011011111100001111101101011110010000010111111101110011110111100011111010101110011100100110000110000011110001001100010110101100011001111110000011111001000011000000011100111011101100110001001111110010000111011111010010110011110101000110100110010100100111010101101100001001001010111101001000100010000011101011101011100100100101010110101011011000100010110111110111001111001000101010101010100100110011111001010011111010110111001101000110101101011000001001000101110011101100001000100111100101010011011001011010011010011100101101001011000010100000110111101011111110001111001111111110000111101010100101011010111000000111010100010100011100110001011010001001001010011011110011110100100011010010010010000101110111110001100011110010000111011111010100110011110011011101101101101001010110011001111010011000111010111000000011111110000001111100110110001000011111000010110011111001101100010001110111100101001010101100111000000001000010110101100100100101011011011001000011011101001001111101000110001110000110010010001101011110101001001000111101000110110001000011001011110101001111010010010101001010011111110110100010101011000110101100111010101011111101001101000110001100011001001001001111100100100011100000000010111000010001000111100111111010010111000100010111010010110111001010001010110111011000101101111100100111001001011001110100101111000001010010110000000011110011011010000001000111000001001111101111100111101110011001000000100001101010010011011011010110011100010010000100110011101000100111110011011000111111110101010000101010001101000100100101000100011111111111000100001001111110011100000100000011001111011011101100110101010000111100000100010011100001100101010001100001100101001101000011111010011101111010011001011110010010111000110010010000101101101010101011100011000001011001000001000101111100110000111010110000101101111111100001100000111011100100101101000110100110101101000010101010010000100010000101001100101011000001110011110100100111001110100011010000100011001010001010111011100010001100101111000000010010100101001100000011101000111011100111010000100001010101000110111000000010010001110000101010000000101000101010100100011100001101111010100100011111011101010010011000110011110010011011000100100101001010111000110000100011000110011101000000110010101111011010111000110101011000111101110110001100100101110001111011100100110011111000010001100011110000000111111101000000111001011111110010001001001101010011001000100110100011111111001111000001010010101001110011010001010001110001100110111101010011000010001110101110010111111110101001110011111001110000111100100111001011001101101010010111000011101101101011110111111010100001000111010111001010101001110101011100101011110110011110011001101100000001101100001100101101000011011000000110101000110010000111010110110100000101111001010111000001001001100101101000101001011111010001001111101110010000000001000111101010011101110101000100001101000001110001100010000100110010111000011011011111011100001110101011010100101010100000001011100111101100101101110100110010000100011010101000100000001010000100101110000110111001111111010110110100001010011110010101011100100011010101110011000001000000011111010111000111011011011111110011001011101000000001111111101000100100111010100100001011110011111101001000100010111101010000010010111001100101001110100111010011110100101100000100011000011011011010111100001100011010100101001010010110011111001010101101101011010011001001111101011000011000100000010011101011011001011110001010000000111111110111110011100100111000100100000111111100011101110101111110111110111111100111000000101110011001000110111001001101010010011010110000000001110000010010001000011010000001000011100000001010111001100111001000101010001000101001101000001000001000111111101010010111011101011110101001101100000100000010110000101100000110101100100101100101000000101111100111011100100010010100000000100101100100110111001010110011011101000111000000111010011000101011011010111000110101010101000110100100110000100010101110100101010110110101110001010101100100111101111110011001001110000101011111100100001100100011101010100101110011001100100100010010110001110010110110010000010011000010000100000111011011101101010101000010010101100001100111010100010101000111100010011010110011000010111100000101010011010111000101100010101011011011010110111101000101100000101110110010000001110110011010111000001010011011110110111101111101010100001010100001011110010011000100110011010111000110100000100100101110101111110010010111000101100101101111111010100001110101101001111010110100100001110100110000111110100001000101111000110001110100000111011011010000101110001111010100011110111111011100100111100011110001100010000011110111010111001011101000100100110110100100000001010111100000010011111001011100010110110010001110111000011011010001111010110000110111000000100011011001100011100101101110010100110110010010101000101101001010001001100111101010101111101000110111101111111101100110001101110101011100100010001000100001000111101111111000101011100010110110010100001010010101101011001010011000010010011111000011011010010100011001101000100100001101111011000001001101001000011001111000101011000110010010000011101001011110111011100010000101111110101011000001100001000010101100001001000110110010000111010100111111001010100100110010010100110110101000110011000110100111110000100110100000101001000010101011111111100110101111111001010001100101001001101000101011001101011010000000101011111101100001011100100010111010011010011001101110110111011000010001000010100001000101101101110100010101011011111001011010000100010001111001110101101000110101001010010100110001010011000110000011011011100010110001000010111000111111101110101101001011111010010000101000001001110000001010110000111101100100010000001011001011100101000111010001101110100111110101010100001100001001100110011101011101101011111100000010101100110000111010010101011010001011111101101010011111011111100101110001000111011110001000100111011000001011111111111011100111101111010111100001010100011011010010010000111000110101010011110111101011101011110110110111111100110011100110010001100110110011011001100111100110111110011000010011111010011011011110111101010001110100000110011011011101010100\n"
          ]
        }
      ]
    },
    {
      "cell_type": "code",
      "source": [
        "embed('msg.txt', 'cover.txt', 'embedded.txt', key)"
      ],
      "metadata": {
        "id": "eU0KCbNIsRHN"
      },
      "execution_count": 538,
      "outputs": []
    },
    {
      "cell_type": "code",
      "source": [
        "with open('embedded.txt', 'r', encoding='utf8') as f:\n",
        "  embeded = f.read()"
      ],
      "metadata": {
        "id": "2puKSnDYuzuO"
      },
      "execution_count": 539,
      "outputs": []
    },
    {
      "cell_type": "code",
      "source": [
        "print(embeded)"
      ],
      "metadata": {
        "colab": {
          "base_uri": "https://localhost:8080/"
        },
        "id": "x_0tbXqDu5-A",
        "outputId": "f3494993-206c-4feb-963e-2247db31de26"
      },
      "execution_count": 540,
      "outputs": [
        {
          "output_type": "stream",
          "name": "stdout",
          "text": [
            "‫‪‬​‎‭‬‭‭‬‫‪‎‬​‬​‪​‪‪​‭​‬​​‭‭‬‎‭‪‬‬‎‬‎‎‭‪‫‬‎‭‬‬​​‪‬‎‬​‭‎‫‪‭‬‬​‬​‪​​‬‫‪‪‫‬​‬​‫‪‬‭‎‬‎‬‬​‬‎‭​​‭​‬‫‪‬‎‪​‫‪‬‪‪‬‎‭‬​‬​‬‎‭​‭‎​‭‬‪‪‬‎‭​‪‬‭​‭‎‬‪‬‬‎‭​‪​‬‪‭​‬​‭‬‬‭‬‎‬​‬‭‭‬‪‫‎‭‎‭‪‬‬​‭‬‎‬‬‪‎‬‪‬‬‪‫‪​‪​‭‪​‭‎‪​‫‪‪​​‪‬​‎‬‎‭‫‪‎‭‬‭​‪‪‫‬​‬‭‬‎‭‬​‪‫‪‎‬‪‫‬‎​‪‭​‪​‎‬​‭‭​‪‬‭​‭‬‭‎‬‪​‭​‭‬​‬​‬‪​‬‬‪‭​‪‬‬‪​‪‬​‬‎‪‫‭‎‎‭‪‫‪​‭​‪​‬‎‎‬‫‪‫‪‫‪‬‪‬‪​‭‎‬​‬‬‭‬‪‭‎‎‭‭​‪‫‫‪‫‪‫‪‭‬‫‪​‪‪​‪‬‬‪‭​​‭‬‎‬​‎‬‭‬‬‪‎‬‬‪‬‭‪‬‎‭‬‪​‭‭‬‬​‫‪‎‬‬​‎‬‪‬‎‭‭​‪‫‬​‪‫‬‪‬​‎‬​‬‬‪‎‬​‭‫‪‬​‭​‬‎‭‬‬​‪‬‪‫‭‬‭​‬‪‬‪‭​‪​‭​‪‬​‭‭‬‬‭‬​‬‭‭‬‬‪‬‎‭‎‭​‬‪‎‬​‬‬‭‫‪‭‎‪‫​‪‭‎‎‭‪​‭‎‎‬​‭​‬‪​‫‪‭‎‬​‭​‪​‭​​‭‭‎‭‬‫‪​‪‭​​‭‬‪‎‬‬‎‬‎‭‎‭‎‭‬‪‬‭‎‭​‪​‫‪​‪‪​‭‎‬​​‭​‭‬‭‭‎‭‬‪‬‎‭​‪‭‎‭​‭‎‬‭​‭‭‎‪‫‪​‬‪‬‪‬​‪‬​‬​‭‭‬‪​‬​‬‭​‭‪‬‭​‪​‪​‭​‫‪​‪‭‎‭‬‬‪‬‪‪‫​‪‭‬​‬‭​‫‪‭‎​‭‎‬​‪​‭‎‭‬​‬‭‫‪‪‬‎‬​‪‎‬‭​‫‪​‬‭‬‭‬‬‎​‬‬​​‭‎‭‬‪‬‭‎‬‬‎‪​‎‬‫‪‭​‬‎‪​‪‫‪‫‪‬‎‭‬‪​‪‫‪‎‬‭​‬‎‎‭‬‎‭‎​‬‎‬‭‬‭‎‪‬‭‬‬‪​‪‪‫‭‎‭‬​‪​‭‭​‫‪‬‎‭​​‬‭​‎‭‬‪‪‬‬‭‎‬‎‬‭​‪‬‪​‭​‎‭‭‬‬‪‎‬‭‎‪‫​‭‭‎​‬‪‬‭‬‬​‎‬‎‬‫‪‪‫‭‎‪​‭‬‬‎‬‎‫‪‭‬​‪‬‎‭‎‪​‭​​‪‎‬‬‎‭​​‭‬​‫‪‭​‭‬‪‬‭​​‪‎‭‭​‬‎‪‬‪​‫‪‭​​‬​‪​‬‬‎‬‪‪‬​‪‬​​‪‭‎‭‬‬‭‭‎‬‪‭‬‫‪‭‎‪​‬‎‫‪‫‪‎‬‎‬‎‬‭‬​‭‎‬‬‭‬‭‎‭‭​‪‬‫‪‪​‭​‪​‬‪​‬​‪‎‭‎‬‭‎‬​‫‪‭‬‎‭‪‬​‬‫‪‭‎​‬‬‭‎‭‎‭‬‎‪‫‫‪‪‫‬‭‭​‭‎​‪‫‪‫‪‬‪‭‬‪‬‬‪‪‫‭​‪‫‪​‬‪‪‬‎‭‬‪‭​​‪‬​‬‭‪​‭‬‬‭‎‬‪‫‬‭‭‬‎‬‎‭‫‪‪‫​‬‭‎‭‬‬‎‫‪‪​‪‬‪‫‭‬‭​​‬​‪​‬‪​‭‬​‪‬‎‎‭‭​‬‭‬‎‭‎‪​​‪​‪​‬‫‪‭‬‬‎‭​​‬‪‬​‪‬‭‭‬‬​‎‭‎‬‬‭‎‭‫‪‭‎​‪‎‭‫‪​‭‪‫‎‭‎‬‎‬‬​‬​‬‎‬‭‭‬‭‎‎‭‬‭‎‬‪​‪‬​‪‭​‬​‬‭​‬‪‫‬​​‬‎‭‬‎‫‪‬​‬​​‪‪‫‪‫‎‭‭‬‬‭‭‎‬‭‭‎‭​​‭‎‬​‬‪‬​‪‎‬​‪‭‬‬‪‭​‭‎‬‎‭‎‪‫‬‪​‪‪​‭‎‬‭‪​‭‎​‭‪‫‪​‭‬‪​‬‭‬‭‬‪‭​‎‭‎‭​‬‪​‫‪‬‎‭‬‎‭​‭‪‫‪‬‬‭‪​‪‫​‬‬‎‎‭‭‬​‪‭‎​‪‭​‪‫‪‬‎‭‎‬‫‪​‭‭‎‬‎‭‎‎‭‎‭​‭‎‭‭​‭‎‪​‭​‪‫‪​‬‭‬​‬‭‎‭‭‎‬​‬‎‫‪‪‬​‪‭‬‬‭‭‎​‬‬‭‬​‬‪‭‬‪‫‭​​‪‬‎‬‭‭​‭‎‪‫‪‬‎‬​‪‫‪‬‭‬‭‎‭‬‪​‭‬‪​‭‫‪‫‪‎‭​‪‬‪‎‬‫‪‎‬‭‬‎‭‎‭‬​‭‬‎‬​‪‬​​‭​‭‭‎‪‬‎‭‭​​‭​‬‭‎‪​‎‬‎‭‬‭‎‭‎‭‪‫‬‪‬‪‪​​‪‎‭‭​‭‎‬​‬‭​‬​‭​‬​‭​‪‫‪‭‎​‬‎‬‪‬​‪​‪‭‎‭​‭‬​‪‭‬‭‬‭‎‎‬​‭​‬‪‫‪​‬‎‬‭‬‪‭‎​‭‭‎‬‪‭‎‭‎‬‭‬‭​‬‭‬‬‭‪‬‬‎‪‬​‭‎‬‬‭‫‪‬‎​‭‪‫‬‪​‬‪‬‬‎‬​‎‭​‬‪​​‭‬‎‪‫‬​‭​‎‭​‬​‬‭​‪‫‬‎‭‎‎‭‭‎‫‪​‭‬‭​‭‎‬‫‪‬​‪‬‬‎​‬​‪​‬​‪‎‬‪​‬‭‭‬‭‎‬​​‪‬​‪‫‭‎‬‪‪​‭​‎‭​‭‬‪‬‪‪‫‎‬‪‬‬‎‭‬‪​‎‭‎‭‎‬‫‪‭‬‪​‬‎‭‎​‭‪‬‭‬‬‭‭‬‎‬‪‫‬‎​‪‪‫​‬​‪‬‭‭‎​‭‬​‬‎​‬‎‬‬‎‫‪‪​‬‎‪‫‬​‬‎‎‬‪​‬​‪‬‬‭‬‎‭​‭‬‬‭‫‪‎‬‭​‬​‪‫‪‫‭‎‬‪‫‪‫‪‎‭‪‬​‪‬‎‪​‬‭‎‬‪‬‬‪​‭‬‎‫‪​‪​‪‪‬‬‭‭‬‎‬‬‭‬‪‫‪​‭‬‪‎‭​‪​‪‬‪‬‪‭​‭‬‪‫‪​​‪‪‬‪‬​‭‬‭‭‎‪​‭​​‭‭‎‭‬‭‬‭‬‪‬‭‬‬​‫‪‭‎‪‫‬‭‬‭‭‬‎‬‭‬‪​‬​​‬‬‭‭‎‭‬​‪‬​‎‭‎‭‪​‭‎‬‎‫‪‬‪‬‭‎‭‎‭‎‭‬‭‎‬‫‪​‪‪‬​‭‭‎‪‫‎‬‬​​‭‎‬‬‪‬‪‪​‬‎‫‪‎‬‬‎‫‪‎‬‭‬‪‬​‬‭​‬‪‬‭‭‎​‪‬​​‪‬‎‪‬‎‬‭‎​‬‫‪‬‪‭‬‪​‪​‎‭‪​‎‭‪‫‭​‪‬​‭‬‪‎‬​‭‬‪‬‭​‭‬​​‪‪‫‫‪‎‭‬​‬​​‬‭​‪‬‪‫​‪‎‭‫‪​‭​‬‭​‪‬‪‫‭‬‭‬​‬‭​‪​‪‬‬‭‭‎‪​‪‫​‭‬​‬‪‪‬‭‎‪‬‭‎‬‪‪​​‭‬‎‬‭‪‫‪​​‭‪​‭​‫‪‪‫‪​​‬‭‎‭‎‭‬​‪‬‪​‪​‬‪​‬‪​‪‭‎‭​‪‬‎‭​‭​‭​‭​‬‬​‎‬‭​‬‭‫‪‬‪​‭‪​​‭‫‪‪‫​‬‫‪​‪‭‎‭‬‭‬‭​‬‭​‭‭‬‫‪‬‪‬​​‬‭‬‭‬‭​‬‭‫‪‬​​‭‬‎‫‪‭‎‬‭‬‎‬‭‭‬‪‬‪‬‬‭‬‪‬​‎‬​‪‬‭​‭‬‭​‬‎‬‎‬‬‪‬‎‎‭​‭‬‭‫‪‭​‬‪‭​‪‬‪​‭‎‫‪‭​​‭‬‎​‪‬‎‪‬‭​‬‎‭‎​‭‬​‬​‎‬‬‪​‪‬‎‪‬‬​​‬​‪​‪‎‬‎‭‭‎‭​‪‬‬‎‎‬‫‪‪​‪​‭‬‎‬​‭‎‭​‬​‪‬‪‫‪‭​‪​‬​‬‎‬‪‫‪​‬‎‬‪‬‭​‫‪‎‬‬​‎‬‭​‬‪‭‬‭‬‭​‎‭‫‪‪​‬‎‪‫‬‪‎‭‬‎​‪‭‎​‪‬​‪​‪‬‬‭‭‬‬​‎‬‎‬‪‬‎‭‫‪‬‭‭‎‫‪‪‫‪‬​‪​‬‎‭‪​‭‬‬​‬‎​‬‬‎‪‬‬​‪‫‬‎​‪‪​​‬‫‪​‪‎‭‬‭‭‎‭‬​‪‬‪‭‬​‭‪​​‬​‭​‬‪​‎‬​‭‬‎‪‫‭​‭‬‬​‭​‎‬‪​‭‎‬‎‬​‬‎‬‎‬‪‭​‬​‬‭​‭‬‪‪‬‎‬‬‪​‬‭‬‎‬‭‬‫‪​‭‭​​‪‫‪‪‬​‭​‪‬‎​‬‬​‭‬‪‬‬‪‪‬‬‭‎‭‎‬‭‬‭‎‬‎‬‎‭‬​‪‬‭​‭‬​‎‭‬‎‎‬‬‪‬​‫‪‭‬‭‬‪‬‪‫‭‎‬​‫‪‬‭​‬​‬‭‎‎‭‬‎​‪‬​‪‬‪‬​‬​‪‫‪‭‬‪‬‎‭​‭‬​​‭​‬​‬‪‫‬‪​‭‎‬‎‬‬‭‬​‬​‎‭‬​‭‎​‭‬‪​‭‪‫‪​‬‭‬‪‪‬‪‬‪‬‬​‪​‭‬‬‪‎‭‬​‎‬‫‪‭​‪​‎‭​‪‪‫‬‪‬​‭‎‬‪‭‬‪​​‭‬‪‭​‎‬‭‬‬​‬‎‭​‪​‎‭‫‪​‭‫‪​‭‬‭‬‎‭​‪​‎‭‪‫‭‎‪​‭​‎‬‪​‭‬‭​‫‪‎‭‪‬‎‬‪‫​‭‬​‭‬‪​‫‪​‪‭‬‫‪​‪​‪‬‎​‬‪​​‭​‬‬‎‪‫‬‪‭‬‬‎‪‬‪‫‭‬‬‪‭‬‭​‪‬‭​‫‪​‪‪‫‪‫‪‬‬​‎‬‬‪‬​‬‭‭​‎‬‭‎‪​‬‭‪‬‬‪‭​‪‫‬​‎‬​‭​‭‬‎‪‫‎‬‬​‬‪​‬​‬‎‬‬‪‎‭​‬‪‫‎‬‎‭‬‎‭‬‪​‎‬‬‪‎‬‎‬‎‬‬‎​‭‬‪‪​‭‬‬‭‭‬‪​‭‎‬​‪‬​‪‭​‪‫‬​‎‬‪‬‭‎‬‎‭​‭‎​‭‫‪‬‪‪​‬​‬‎‪‫‎‬‪‬‬​‪‫‪​‭​‫‪‬‪‬​​‬‎‬‪‫‎‭‬‭‭​‫‪‬‎‬‎‎‬‭​‪‫​‪‭‎​‪‬​‭​‪‬‭‬‎‭‭‬‎‭‭‎‬‪‪​‬‭‬‎‬​​‭‫‪‪‫‬‭‪‫‭​​‬‭‎‎‭‫‪‬‭‭‎​‭‬‎‭‎‪​‬‪‬​​‪‫‪‭‬‪‫​‪‬​‭​‬‭‭‬‎‬‬‭‫‪​‬‪‬‪​‪‬‪‫‭​‪‬​‬‬‭‭‎​‭‭‎​‬‬​‪‬‎‬‪‫‬‭​‪​‬‎‭‪​‭​‪‬‫‪‪‬‎‬‪‫​‭‬‭​‪‭‎​‪‭‬‭‬‫‪‎‬‬​‬‪​‬​‭​‬‬​‬‎‫‪‪‫‬‎‎‬‪‫‎‬‎‬‫‪‬​‎‭‎‬‎‬‫‪‭​‎‭​‬​‬‪‬​‪‭​‎‬‭‬‪​​‭‪‫‫‪‎‭‪​‪​‭​‎‭‭‬‫‪​‬‬​‭‬​‭‎‭‎‭​‪‬​‭‬‬‪‪‬‭‬‭​​‭‫‪‎‭‬‪‫‪‫‪‬‎xin chao cac ban\n",
            "\n"
          ]
        }
      ]
    },
    {
      "cell_type": "code",
      "source": [
        "extract('embedded.txt', \"extracted.txt\", key)"
      ],
      "metadata": {
        "id": "FbYtKBPFuIJs"
      },
      "execution_count": 541,
      "outputs": []
    },
    {
      "cell_type": "code",
      "source": [
        "with open('extracted.txt', 'r', encoding='utf8') as f:\n",
        "  extracted = f.read()"
      ],
      "metadata": {
        "id": "OUZIvFvbuHB3"
      },
      "execution_count": 542,
      "outputs": []
    },
    {
      "cell_type": "code",
      "source": [
        "print(extracted)"
      ],
      "metadata": {
        "colab": {
          "base_uri": "https://localhost:8080/"
        },
        "id": "eOWnQ6Q4ucAW",
        "outputId": "d0d6f3b7-049d-43c5-c92d-f7a71b840275"
      },
      "execution_count": 543,
      "outputs": [
        {
          "output_type": "stream",
          "name": "stdout",
          "text": [
            "Sed ut perspiciatis unde omnis iste natus error sit voluptatem accusantium doloremque laudantium, totam rem aperiam, eaque ipsa quae ab illo inventore veritatis et quasi architecto beatae vitae dicta sunt explicabo. Nemo enim ipsam voluptatem quia voluptas sit aspernatur aut odit aut fugit, sed quia consequuntur magni dolores eos qui ratione voluptatem sequi nesciunt. Neque porro quisquam est, qui dolorem ipsum quia dolor sit amet, consectetur, adipisci velit, sed quia non numquam eius modi tempora incidunt ut labore et dolore magnam aliquam quaerat voluptatem. Ut enim ad minima veniam, quis nostrum exercitationem ullam corporis suscipit laboriosam, nisi ut aliquid ex ea commodi consequatur? Quis autem vel eum iure reprehenderit qui in ea voluptate velit esse quam nihil molestiae consequatur, vel illum qui dolorem eum fugiat quo voluptas nulla pariatur?\n"
          ]
        }
      ]
    },
    {
      "cell_type": "code",
      "source": [
        "print(msg)"
      ],
      "metadata": {
        "colab": {
          "base_uri": "https://localhost:8080/"
        },
        "id": "kcgPKAXgudms",
        "outputId": "68614ab1-e157-4963-9d89-146c1223d52e"
      },
      "execution_count": 544,
      "outputs": [
        {
          "output_type": "stream",
          "name": "stdout",
          "text": [
            "Sed ut perspiciatis unde omnis iste natus error sit voluptatem accusantium doloremque laudantium, totam rem aperiam, eaque ipsa quae ab illo inventore veritatis et quasi architecto beatae vitae dicta sunt explicabo. Nemo enim ipsam voluptatem quia voluptas sit aspernatur aut odit aut fugit, sed quia consequuntur magni dolores eos qui ratione voluptatem sequi nesciunt. Neque porro quisquam est, qui dolorem ipsum quia dolor sit amet, consectetur, adipisci velit, sed quia non numquam eius modi tempora incidunt ut labore et dolore magnam aliquam quaerat voluptatem. Ut enim ad minima veniam, quis nostrum exercitationem ullam corporis suscipit laboriosam, nisi ut aliquid ex ea commodi consequatur? Quis autem vel eum iure reprehenderit qui in ea voluptate velit esse quam nihil molestiae consequatur, vel illum qui dolorem eum fugiat quo voluptas nulla pariatur?\n"
          ]
        }
      ]
    },
    {
      "cell_type": "code",
      "source": [
        "assert extracted == msg"
      ],
      "metadata": {
        "id": "8tac3lJIuenY"
      },
      "execution_count": 545,
      "outputs": []
    }
  ]
}